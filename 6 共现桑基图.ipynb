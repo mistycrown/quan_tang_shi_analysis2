{
 "cells": [
  {
   "cell_type": "code",
   "execution_count": 1,
   "metadata": {
    "ExecuteTime": {
     "end_time": "2023-10-08T06:20:24.539405800Z",
     "start_time": "2023-10-08T06:20:23.784266Z"
    }
   },
   "outputs": [
    {
     "name": "stdout",
     "output_type": "stream",
     "text": [
      "['秦 川 雄 帝 宅 ， 函 谷 壯 皇 居 。', '綺 殿 千 尋 起 ， 離 宮 百 雉 餘 。', '連 甍 遙 接 漢 ， 飛 觀 迥 凌 虛 。', '雲 日 隱 層 闕 ， 風 煙 出 綺 疎 。', '巖 廊 罷 機 務 ， 崇 文 聊 駐 輦 。', '玉 匣 啓 龍 圖 ， 金 繩 披 鳳 篆 。', '韋 編 斷 仍 續 ， 縹 帙 舒 還 卷 。', '對 此 乃 淹 留 ， 欹 案 觀 墳 典 。', '移 步 出 詞 林 ， 停 輿 欣 武 宴 。', '琱 弓 寫 明 月 ， 駿 馬 疑 流 電 。']\n",
      "[['秦', '川', '雄', '帝', '宅', '，', '函', '谷', '壯', '皇', '居', '。'], ['綺', '殿', '千', '尋', '起', '，', '離', '宮', '百', '雉', '餘', '。'], ['連', '甍', '遙', '接', '漢', '，', '飛', '觀', '迥', '凌', '虛', '。'], ['雲', '日', '隱', '層', '闕', '，', '風', '煙', '出', '綺', '疎', '。'], ['巖', '廊', '罷', '機', '務', '，', '崇', '文', '聊', '駐', '輦', '。'], ['玉', '匣', '啓', '龍', '圖', '，', '金', '繩', '披', '鳳', '篆', '。'], ['韋', '編', '斷', '仍', '續', '，', '縹', '帙', '舒', '還', '卷', '。'], ['對', '此', '乃', '淹', '留', '，', '欹', '案', '觀', '墳', '典', '。'], ['移', '步', '出', '詞', '林', '，', '停', '輿', '欣', '武', '宴', '。'], ['琱', '弓', '寫', '明', '月', '，', '駿', '馬', '疑', '流', '電', '。']]\n",
      "['蕭蕭', '冪冪', '迢迢', '眷眷', '薄薄', '永永', '搖搖', '朗朗', '苒苒', '泠泠']\n"
     ]
    }
   ],
   "source": [
    "# 导入全唐诗和重言词数据，按照字进行分词\n",
    "import json\n",
    "with open('output/quantangshi_token.txt','r',encoding= 'utf-8') as f:\n",
    "    qtsli =[x.replace('\\n',\"\") for x in f.readlines()] \n",
    "print(qtsli[:10])\n",
    "tokenized_corpus = [x.split() for x in qtsli]\n",
    "print(tokenized_corpus[:10])\n",
    "\n",
    "import pickle,json,time\n",
    "with open('output/chongyanlist.pkl', 'rb') as file:\n",
    "    cy_set = list(pickle.load(file))\n",
    "print(cy_set[:10])"
   ]
  },
  {
   "cell_type": "code",
   "execution_count": 2,
   "metadata": {
    "ExecuteTime": {
     "end_time": "2023-10-08T06:20:38.549966Z",
     "start_time": "2023-10-08T06:20:24.538898700Z"
    }
   },
   "outputs": [
    {
     "name": "stdout",
     "output_type": "stream",
     "text": [
      "['君', '不', '見', '宜', '春', '苑', '中', '九', '華', '殿', '，', '飛', '閣', '連連', '直', '如', '髮', '。', '幽', '陵', '異', '域', '風', '煙', '改', '，', '亭', '障', '連連', '古', '今', '在', '。', '騎', '連連', '，', '車', '遲遲', '。', '朱', '弦', '一', '一', '聲', '不', '同', '，', '玉', '柱', '連連', '影', '相', '似', '。', '君', '不', '見', '宜', '春', '苑', '中', '九', '華', '殿', '，', '飛', '閣', '連連', '直', '如', '髮', '。', '橐', '駞', '何', '連連', '，', '穹', '帳', '亦', '纍纍', '。', '一', '節', '一', '目', '皆', '天', '然', '，', '珠', '重重', '，', '星', '連連', '。', '汲', '井', '歲', '榾', '榾', '，', '出', '車', '日', '連連', '。', '漠漠', '虛', '無', '裏', '，', '連連', '睥', '睨', '侵', '。', '自', '從', '二', '主', '來', '，', '此', '禍', '竟', '連連', '。', '連連', '寒', '溜', '下', '陰', '軒', '，', '熒熒', '泫', '露', '垂', '秋', '草', '。', '遠', '揚', '邇', '昭', '，', '陟', '降', '連連', '。', '軋軋', '渡', '水', '槳', '，', '連連', '赴', '林', '鴉', '。', '連', '山', '何', '連連', '，', '連', '天', '碧', '岑', '岑', '。', '斤', '磨', '片', '片', '雪', '，', '椎', '隱', '連連', '珠', '。', '一', '一', '牀', '頭', '點', '，', '連連', '砌', '下', '泡', '。', '憶', '昨', '陰', '霖', '天', '，', '連連', '三', '四', '旬', '。', '慘慘', '八', '月', '暮', '，', '連連', '三', '日', '霖', '。', '西', '來', '風', '褭褭', '，', '南', '去', '雁', '連連', '。', '鄱', '陽', '勝', '事', '聞', '難', '比', '，', '千', '里', '連連', '是', '稻', '畦', '。', '連連', '貫', '珠', '並', '，', '嬝', '嬝', '遏', '雲', '頻', '。', '有', '時', '風', '卷', '天', '雨', '晴', '，', '聚', '立', '連連', '如', '弟', '兄', '。', '花', '驄', '躞', '蹀', '遊', '龍', '驕', '，', '連連', '寶', '節', '揮', '長', '鞘', '。', '登', '望', '思', '慮', '積', '，', '長', '亭', '樹', '連連', '。', '一', '旦', '形', '羸', '又', '髮', '白', '，', '舊', '遊', '空', '使', '淚', '連連', '。', '龍', '樓', '錦', '障', '連連', '出', '，', '遙', '望', '梁', '臺', '如', '晝', '日', '。', '蓋', '上', '連連', '九', '箇', '星', '，', '名', '曰', '傳', '舍', '如', '連', '丁', '。', '春', '初', '先', '作', '旱', '，', '夏', '首', '水', '連連', '，', '末', '秋', '風', '火', '急', '，', '禾', '稻', '不', '豐', '鮮', '。']\n"
     ]
    }
   ],
   "source": [
    "# 统计每一个词的共现词有哪些，以列表存储\n",
    "from collections import defaultdict\n",
    "cy_linedict = defaultdict(list)\n",
    "\n",
    "for cyword in cy_set:\n",
    "    for line in tokenized_corpus:\n",
    "        if cyword in line:\n",
    "            cy_linedict[cyword] = cy_linedict[cyword] + line\n",
    "            \n",
    "print(cy_linedict['連連'])"
   ]
  },
  {
   "cell_type": "code",
   "execution_count": 3,
   "metadata": {
    "ExecuteTime": {
     "end_time": "2023-10-08T06:20:38.619896300Z",
     "start_time": "2023-10-08T06:20:38.552359200Z"
    }
   },
   "outputs": [
    {
     "name": "stdout",
     "output_type": "stream",
     "text": [
      "Counter({'，': 31, '連連': 28, '。': 28, '一': 7, '如': 5, '不': 4, '風': 4, '天': 4, '春': 3, '九': 3, '髮': 3, '珠': 3, '日': 3, '連': 3, '君': 2, '見': 2, '宜': 2, '苑': 2, '中': 2, '華': 2, '殿': 2, '飛': 2, '閣': 2, '直': 2, '亭': 2, '障': 2, '車': 2, '何': 2, '節': 2, '星': 2, '榾': 2, '出': 2, '來': 2, '下': 2, '陰': 2, '秋': 2, '水': 2, '岑': 2, '片': 2, '霖': 2, '三': 2, '稻': 2, '嬝': 2, '遊': 2, '龍': 2, '長': 2, '望': 2, '幽': 1, '陵': 1, '異': 1, '域': 1, '煙': 1, '改': 1, '古': 1, '今': 1, '在': 1, '騎': 1, '遲遲': 1, '朱': 1, '弦': 1, '聲': 1, '同': 1, '玉': 1, '柱': 1, '影': 1, '相': 1, '似': 1, '橐': 1, '駞': 1, '穹': 1, '帳': 1, '亦': 1, '纍纍': 1, '目': 1, '皆': 1, '然': 1, '重重': 1, '汲': 1, '井': 1, '歲': 1, '漠漠': 1, '虛': 1, '無': 1, '裏': 1, '睥': 1, '睨': 1, '侵': 1, '自': 1, '從': 1, '二': 1, '主': 1, '此': 1, '禍': 1, '竟': 1, '寒': 1, '溜': 1, '軒': 1, '熒熒': 1, '泫': 1, '露': 1, '垂': 1, '草': 1, '遠': 1, '揚': 1, '邇': 1, '昭': 1, '陟': 1, '降': 1, '軋軋': 1, '渡': 1, '槳': 1, '赴': 1, '林': 1, '鴉': 1, '山': 1, '碧': 1, '斤': 1, '磨': 1, '雪': 1, '椎': 1, '隱': 1, '牀': 1, '頭': 1, '點': 1, '砌': 1, '泡': 1, '憶': 1, '昨': 1, '四': 1, '旬': 1, '慘慘': 1, '八': 1, '月': 1, '暮': 1, '西': 1, '褭褭': 1, '南': 1, '去': 1, '雁': 1, '鄱': 1, '陽': 1, '勝': 1, '事': 1, '聞': 1, '難': 1, '比': 1, '千': 1, '里': 1, '是': 1, '畦': 1, '貫': 1, '並': 1, '遏': 1, '雲': 1, '頻': 1, '有': 1, '時': 1, '卷': 1, '雨': 1, '晴': 1, '聚': 1, '立': 1, '弟': 1, '兄': 1, '花': 1, '驄': 1, '躞': 1, '蹀': 1, '驕': 1, '寶': 1, '揮': 1, '鞘': 1, '登': 1, '思': 1, '慮': 1, '積': 1, '樹': 1, '旦': 1, '形': 1, '羸': 1, '又': 1, '白': 1, '舊': 1, '空': 1, '使': 1, '淚': 1, '樓': 1, '錦': 1, '遙': 1, '梁': 1, '臺': 1, '晝': 1, '蓋': 1, '上': 1, '箇': 1, '名': 1, '曰': 1, '傳': 1, '舍': 1, '丁': 1, '初': 1, '先': 1, '作': 1, '旱': 1, '夏': 1, '首': 1, '末': 1, '火': 1, '急': 1, '禾': 1, '豐': 1, '鮮': 1})\n"
     ]
    }
   ],
   "source": [
    "# 统计每个重言词的共现词的频词\n",
    "from collections import Counter\n",
    "cy_counter = {}\n",
    "for cyword,cywordlines in cy_linedict.items():\n",
    "    element_count = Counter(cywordlines)\n",
    "    cy_counter[cyword] = element_count\n",
    "print(cy_counter['連連'])\n"
   ]
  },
  {
   "cell_type": "code",
   "execution_count": 4,
   "outputs": [],
   "source": [
    "# 找到两个词语的共现词,用桑基图展示\n",
    "import numpy as np\n",
    "from pyecharts import options as opts\n",
    "from pyecharts.charts import Sankey\n",
    "def sanji(word1,word2):\n",
    "    counts1 = cy_counter[word1]\n",
    "    counts2 = cy_counter[word2]\n",
    "    countsum1 = sum(counts1.values())\n",
    "    countsum2 = sum(counts2.values())\n",
    "    intersection = list(set(counts1.keys()) & set(counts2.keys()))\n",
    "    # print(intersection)\n",
    "    \n",
    "    mid = []\n",
    "    for i in intersection:\n",
    "        # print(i,counts1[i],counts2[i])\n",
    "        if counts1[i] + counts2[i] < 3:\n",
    "            continue\n",
    "        mid.append(i)\n",
    "    intersection = [x for x in mid if x not in ['，','。','！','？']]\n",
    "    intersection_rate = [counts1[x]/countsum1 + counts2[x]/countsum2 for x in intersection ]\n",
    "    \n",
    "    # print(intersection)\n",
    "    # print([counts1[x] for x in intersection])\n",
    "    # print([counts2[x] for x in intersection])\n",
    "    \n",
    "    # 按照频次排序\n",
    "    values = np.array(intersection_rate)\n",
    "    labels = np.array(intersection)\n",
    "    \n",
    "    # 获取排序后的索引\n",
    "    sorted_indices = np.argsort(values)[::-1]\n",
    "    \n",
    "    # 使用排序后的索引对标签进行排序\n",
    "    sorted_labels = labels[sorted_indices]\n",
    "    \n",
    "    print(sorted_labels)  # 输出排序后的标签\n",
    "    \n",
    "    # 把待考察的两个词放到标签里面\n",
    "    sorted_labels = list(sorted_labels)\n",
    "    if word1 not in sorted_labels:\n",
    "        sorted_labels.append(word1)\n",
    "    if word2 not in sorted_labels:\n",
    "        sorted_labels.append(word2)\n",
    "    # print(sorted_labels)\n",
    "    \n",
    "    # 生成节点和边\n",
    "    nodes = []\n",
    "    for label in sorted_labels:\n",
    "        if label == word1 or label == word2:\n",
    "            nodes.append({'name':label,\"symbolSize\": 100})\n",
    "        else:\n",
    "            nodes.append({'name':label})\n",
    "    \n",
    "    links = []\n",
    "    for label in sorted_labels:\n",
    "        if label == word1:\n",
    "            continue\n",
    "        countnum1 = counts1[label]\n",
    "        # value1 = intersection_conut1_rate[intersection.index(label)]\n",
    "        value1 = counts1[label]\n",
    "        links.append({'source':word1,'target':label,'value':value1})\n",
    "    for label in sorted_labels:\n",
    "        if label == word2 or label == word1:\n",
    "            continue\n",
    "        countnum2 = counts2[label]\n",
    "        # value2 = intersection_conut2_rate[intersection.index(label)]\n",
    "        value2 = counts2[label]\n",
    "    \n",
    "        links.append({'source':label,'target':word2,'value':value2})   \n",
    "            \n",
    "    # print(links[-1])\n",
    "\n",
    "    \n",
    "    # 生成桑基图\n",
    "    sankey = (\n",
    "        Sankey()\n",
    "        .add(\n",
    "            \"\",\n",
    "            nodes,\n",
    "            links,\n",
    "            orient =\"vertical\",\n",
    "            node_gap = 5,\n",
    "            linestyle_opt=opts.LineStyleOpts(opacity=0.2, curve=0.5, color=\"source\",type_=\"dotted\"),\n",
    "            label_opts=opts.LabelOpts(position=\"top\",),\n",
    "        )\n",
    "        .set_global_opts(title_opts=opts.TitleOpts(title=f\"{word1}-{word2}共同共现词\"))\n",
    "    )\n",
    "\n",
    "    # 保存图表为 HTML 文件\n",
    "    sankey.render(f\"output/{word1}{word2}共现词.html\")    "
   ],
   "metadata": {
    "collapsed": false,
    "ExecuteTime": {
     "end_time": "2023-10-08T06:20:39.091449400Z",
     "start_time": "2023-10-08T06:20:38.585237900Z"
    }
   }
  },
  {
   "cell_type": "code",
   "execution_count": 5,
   "outputs": [
    {
     "name": "stdout",
     "output_type": "stream",
     "text": [
      "['煌煌' '粲粲' '人' '明' '花' '道' '華' '星' '春' '都' '如' '天' '貴' '朱' '車' '鮮' '樹' '三'\n",
      " '四' '門' '一' '姿' '清' '在' '宮' '列' '玉' '青' '耀' '中' '生' '發' '微' '美']\n"
     ]
    }
   ],
   "source": [
    "sanji('粲粲','煌煌')"
   ],
   "metadata": {
    "collapsed": false,
    "ExecuteTime": {
     "end_time": "2023-10-08T06:20:41.070270600Z",
     "start_time": "2023-10-08T06:20:41.003505800Z"
    }
   }
  },
  {
   "cell_type": "markdown",
   "source": [
    "# 下面是草稿"
   ],
   "metadata": {
    "collapsed": false
   }
  },
  {
   "cell_type": "code",
   "execution_count": 15,
   "outputs": [
    {
     "name": "stdout",
     "output_type": "stream",
     "text": [
      "['之', '德', '化', '容', '皇', '玄', '國', '天', '心', '明', '雲', '齊', '風', '惟', '彼', '后', '朝', '光', '何', '臨', '羣', '王', '上', '人', '功', '下', '宗', '洪', '生', '皇皇', '子', '盛', '清', '儀', '靈', '明明', '爲', '雍雍', '中', '睿', '乾', '聖', '月', '神', '巍巍']\n",
      "[4, 3, 2, 1, 2, 3, 2, 4, 1, 5, 3, 1, 2, 1, 1, 1, 2, 6, 3, 2, 2, 3, 3, 4, 2, 1, 1, 2, 2, 1, 3, 1, 1, 1, 1, 2, 2, 1, 4, 1, 3, 6, 5, 1, 3]\n",
      "[5, 4, 2, 3, 6, 2, 1, 9, 2, 3, 3, 2, 3, 2, 2, 2, 3, 1, 1, 2, 2, 1, 4, 1, 2, 2, 2, 1, 1, 3, 5, 2, 2, 2, 2, 3, 1, 2, 1, 2, 4, 7, 1, 5, 1]\n"
     ]
    }
   ],
   "source": [
    "word1 = '赫赫'\n",
    "word2 = '穆穆'\n",
    "counts1 = cy_counter[word1]\n",
    "counts2 = cy_counter[word2]\n",
    "countsum1 = sum(counts1.values())\n",
    "countsum2 = sum(counts2.values())\n",
    "intersection = list(set(counts1.keys()) & set(counts2.keys()))\n",
    "# print(intersection)\n",
    "\n",
    "mid = []\n",
    "for i in intersection:\n",
    "    # print(i,counts1[i],counts2[i])\n",
    "    if counts1[i] + counts2[i] < 3:\n",
    "        continue\n",
    "    mid.append(i)\n",
    "intersection = [x for x in mid if x not in ['，','。','！','？']]\n",
    "\n",
    "intersection_rate = [counts1[x]/countsum1 + counts2[x]/countsum2 for x in intersection ]\n",
    "\n",
    "print(intersection)\n",
    "print([counts1[x] for x in intersection])\n",
    "print([counts2[x] for x in intersection])\n",
    "\n",
    "# print(intersection_rate)\n"
   ],
   "metadata": {
    "collapsed": false,
    "ExecuteTime": {
     "end_time": "2023-10-07T13:13:48.617161900Z",
     "start_time": "2023-10-07T13:13:48.609880100Z"
    }
   }
  },
  {
   "cell_type": "code",
   "execution_count": 21,
   "outputs": [
    {
     "name": "stdout",
     "output_type": "stream",
     "text": [
      "['天' '聖' '之' '皇' '子' '明' '德' '上' '乾' '神' '雲' '光' '明明' '風' '朝' '月' '玄' '容'\n",
      " '皇皇' '中' '人' '羣' '臨' '功' '化' '何' '巍巍' '王' '下' '靈' '儀' '清' '盛' '雍雍' '睿'\n",
      " '心' '齊' '宗' '惟' '彼' '后' '生' '洪' '國' '爲']\n",
      "['天', '聖', '之', '皇', '子', '明', '德', '上', '乾', '神', '雲', '光', '明明', '風', '朝', '月', '玄', '容', '皇皇', '中', '人', '羣', '臨', '功', '化', '何', '巍巍', '王', '下', '靈', '儀', '清', '盛', '雍雍', '睿', '心', '齊', '宗', '惟', '彼', '后', '生', '洪', '國', '爲', '赫赫', '穆穆']\n"
     ]
    }
   ],
   "source": [
    "import numpy as np\n",
    "\n",
    "# 假设你有一个值的NumPy数组和一个标签的NumPy数组\n",
    "values = np.array(intersection_rate)\n",
    "labels = np.array(intersection)\n",
    "\n",
    "# 获取排序后的索引\n",
    "sorted_indices = np.argsort(values)[::-1]\n",
    "\n",
    "# 使用排序后的索引对标签进行排序\n",
    "sorted_labels = labels[sorted_indices]\n",
    "\n",
    "print(sorted_labels)  # 输出排序后的标签\n",
    "\n",
    "sorted_labels = list(sorted_labels)\n",
    "if word1 not in sorted_labels:\n",
    "    sorted_labels.append(word1)\n",
    "if word2 not in sorted_labels:\n",
    "    sorted_labels.append(word2)\n",
    "print(sorted_labels)"
   ],
   "metadata": {
    "collapsed": false,
    "ExecuteTime": {
     "end_time": "2023-10-07T13:15:21.881296500Z",
     "start_time": "2023-10-07T13:15:21.871529900Z"
    }
   }
  },
  {
   "cell_type": "code",
   "execution_count": 18,
   "outputs": [
    {
     "name": "stdout",
     "output_type": "stream",
     "text": [
      "{'source': '赫赫', 'target': '穆穆', 'value': 0}\n"
     ]
    }
   ],
   "source": [
    "nodes = []\n",
    "for label in sorted_labels:\n",
    "    if label == word1 or label == word2:\n",
    "        nodes.append({'name':label,\"symbolSize\": 100})\n",
    "    else:\n",
    "        nodes.append({'name':label})\n",
    "\n",
    "links = []\n",
    "for label in sorted_labels:\n",
    "    if label == word1:\n",
    "        continue\n",
    "    countnum1 = counts1[label]\n",
    "    # value1 = intersection_conut1_rate[intersection.index(label)]\n",
    "    value1 = counts1[label]\n",
    "    links.append({'source':word1,'target':label,'value':value1})\n",
    "for label in sorted_labels:\n",
    "    if label == word2:\n",
    "        continue\n",
    "    countnum2 = counts2[label]\n",
    "    # value2 = intersection_conut2_rate[intersection.index(label)]\n",
    "    value2 = counts2[label]\n",
    "\n",
    "    links.append({'source':label,'target':word2,'value':value2})   \n",
    "        \n",
    "print(links[-1])"
   ],
   "metadata": {
    "collapsed": false,
    "ExecuteTime": {
     "end_time": "2023-10-07T13:15:07.314739800Z",
     "start_time": "2023-10-07T13:15:07.309220800Z"
    }
   }
  },
  {
   "cell_type": "code",
   "execution_count": 19,
   "outputs": [
    {
     "data": {
      "text/plain": "'D:\\\\github repo\\\\quan_tang_shi_analysis2\\\\sankey_diagram.html'"
     },
     "execution_count": 19,
     "metadata": {},
     "output_type": "execute_result"
    }
   ],
   "source": [
    "from pyecharts import options as opts\n",
    "from pyecharts.charts import Sankey\n",
    "# \n",
    "# # 准备节点数据\n",
    "# nodes = [{\"name\": \"A\"}, {\"name\": \"B\"}, {\"name\": \"C\"}]\n",
    "# \n",
    "# # 准备流数据\n",
    "# links = [\n",
    "#     {\"source\": \"A\", \"target\": \"B\", \"value\": 10},\n",
    "#     {\"source\": \"B\", \"target\": \"C\", \"value\": 5},\n",
    "# ]\n",
    "\n",
    "# 创建 Sankey 图表\n",
    "sankey = (\n",
    "    Sankey()\n",
    "    .add(\n",
    "        \"\",\n",
    "        nodes,\n",
    "        links,\n",
    "        orient =\"vertical\",\n",
    "        node_gap = 5,\n",
    "        linestyle_opt=opts.LineStyleOpts(opacity=0.2, curve=0.5, color=\"source\",type_=\"dotted\"),\n",
    "        label_opts=opts.LabelOpts(position=\"top\",),\n",
    "    )\n",
    "    .set_global_opts(\n",
    "        title_opts=opts.TitleOpts(title=\"Sankey Diagram\"),\n",
    "    )\n",
    ")\n",
    "\n",
    "# 保存图表为 HTML 文件\n",
    "sankey.render(\"sankey_diagram.html\")\n"
   ],
   "metadata": {
    "collapsed": false,
    "ExecuteTime": {
     "end_time": "2023-10-07T13:15:07.788445700Z",
     "start_time": "2023-10-07T13:15:07.775287600Z"
    }
   }
  },
  {
   "cell_type": "code",
   "execution_count": 23,
   "outputs": [
    {
     "data": {
      "application/vnd.plotly.v1+json": {
       "data": [
        {
         "link": {
          "source": [
           45,
           45,
           45,
           45,
           45,
           45,
           45,
           45,
           45,
           45,
           45,
           45,
           45,
           45,
           45,
           45,
           45,
           45,
           45,
           45,
           45,
           45,
           45,
           45,
           45,
           45,
           45,
           45,
           45,
           45,
           45,
           45,
           45,
           45,
           45,
           45,
           45,
           45,
           45,
           45,
           45,
           45,
           45,
           45,
           45,
           45,
           0,
           1,
           2,
           3,
           4,
           5,
           6,
           7,
           8,
           9,
           10,
           11,
           12,
           13,
           14,
           15,
           16,
           17,
           18,
           19,
           20,
           21,
           22,
           23,
           24,
           25,
           26,
           27,
           28,
           29,
           30,
           31,
           32,
           33,
           34,
           35,
           36,
           37,
           38,
           39,
           40,
           41,
           42,
           43,
           44,
           45
          ],
          "target": [
           0,
           1,
           2,
           3,
           4,
           5,
           6,
           7,
           8,
           9,
           10,
           11,
           12,
           13,
           14,
           15,
           16,
           17,
           18,
           19,
           20,
           21,
           22,
           23,
           24,
           25,
           26,
           27,
           28,
           29,
           30,
           31,
           32,
           33,
           34,
           35,
           36,
           37,
           38,
           39,
           40,
           41,
           42,
           43,
           44,
           46,
           46,
           46,
           46,
           46,
           46,
           46,
           46,
           46,
           46,
           46,
           46,
           46,
           46,
           46,
           46,
           46,
           46,
           46,
           46,
           46,
           46,
           46,
           46,
           46,
           46,
           46,
           46,
           46,
           46,
           46,
           46,
           46,
           46,
           46,
           46,
           46,
           46,
           46,
           46,
           46,
           46,
           46,
           46,
           46,
           46,
           46
          ],
          "value": [
           4,
           6,
           4,
           2,
           3,
           5,
           3,
           3,
           3,
           1,
           3,
           6,
           2,
           2,
           2,
           5,
           3,
           1,
           1,
           4,
           4,
           2,
           2,
           2,
           2,
           3,
           3,
           3,
           1,
           1,
           1,
           1,
           1,
           1,
           1,
           1,
           1,
           1,
           1,
           1,
           1,
           2,
           2,
           2,
           2,
           0,
           9,
           7,
           5,
           6,
           5,
           3,
           4,
           4,
           4,
           5,
           3,
           1,
           3,
           3,
           3,
           1,
           2,
           3,
           3,
           1,
           1,
           2,
           2,
           2,
           2,
           1,
           1,
           1,
           2,
           2,
           2,
           2,
           2,
           2,
           2,
           2,
           2,
           2,
           2,
           2,
           2,
           1,
           1,
           1,
           1,
           0
          ]
         },
         "node": {
          "label": [
           "天",
           "聖",
           "之",
           "皇",
           "子",
           "明",
           "德",
           "上",
           "乾",
           "神",
           "雲",
           "光",
           "明明",
           "風",
           "朝",
           "月",
           "玄",
           "容",
           "皇皇",
           "中",
           "人",
           "羣",
           "臨",
           "功",
           "化",
           "何",
           "巍巍",
           "王",
           "下",
           "靈",
           "儀",
           "清",
           "盛",
           "雍雍",
           "睿",
           "心",
           "齊",
           "宗",
           "惟",
           "彼",
           "后",
           "生",
           "洪",
           "國",
           "爲",
           "赫赫",
           "穆穆"
          ],
          "line": {
           "color": "black",
           "width": 0.5
          },
          "pad": 15,
          "thickness": 20
         },
         "type": "sankey"
        }
       ],
       "layout": {
        "font": {
         "size": 10
        },
        "title": {
         "text": "Sankey Diagram Example"
        },
        "template": {
         "data": {
          "histogram2dcontour": [
           {
            "type": "histogram2dcontour",
            "colorbar": {
             "outlinewidth": 0,
             "ticks": ""
            },
            "colorscale": [
             [
              0.0,
              "#0d0887"
             ],
             [
              0.1111111111111111,
              "#46039f"
             ],
             [
              0.2222222222222222,
              "#7201a8"
             ],
             [
              0.3333333333333333,
              "#9c179e"
             ],
             [
              0.4444444444444444,
              "#bd3786"
             ],
             [
              0.5555555555555556,
              "#d8576b"
             ],
             [
              0.6666666666666666,
              "#ed7953"
             ],
             [
              0.7777777777777778,
              "#fb9f3a"
             ],
             [
              0.8888888888888888,
              "#fdca26"
             ],
             [
              1.0,
              "#f0f921"
             ]
            ]
           }
          ],
          "choropleth": [
           {
            "type": "choropleth",
            "colorbar": {
             "outlinewidth": 0,
             "ticks": ""
            }
           }
          ],
          "histogram2d": [
           {
            "type": "histogram2d",
            "colorbar": {
             "outlinewidth": 0,
             "ticks": ""
            },
            "colorscale": [
             [
              0.0,
              "#0d0887"
             ],
             [
              0.1111111111111111,
              "#46039f"
             ],
             [
              0.2222222222222222,
              "#7201a8"
             ],
             [
              0.3333333333333333,
              "#9c179e"
             ],
             [
              0.4444444444444444,
              "#bd3786"
             ],
             [
              0.5555555555555556,
              "#d8576b"
             ],
             [
              0.6666666666666666,
              "#ed7953"
             ],
             [
              0.7777777777777778,
              "#fb9f3a"
             ],
             [
              0.8888888888888888,
              "#fdca26"
             ],
             [
              1.0,
              "#f0f921"
             ]
            ]
           }
          ],
          "heatmap": [
           {
            "type": "heatmap",
            "colorbar": {
             "outlinewidth": 0,
             "ticks": ""
            },
            "colorscale": [
             [
              0.0,
              "#0d0887"
             ],
             [
              0.1111111111111111,
              "#46039f"
             ],
             [
              0.2222222222222222,
              "#7201a8"
             ],
             [
              0.3333333333333333,
              "#9c179e"
             ],
             [
              0.4444444444444444,
              "#bd3786"
             ],
             [
              0.5555555555555556,
              "#d8576b"
             ],
             [
              0.6666666666666666,
              "#ed7953"
             ],
             [
              0.7777777777777778,
              "#fb9f3a"
             ],
             [
              0.8888888888888888,
              "#fdca26"
             ],
             [
              1.0,
              "#f0f921"
             ]
            ]
           }
          ],
          "heatmapgl": [
           {
            "type": "heatmapgl",
            "colorbar": {
             "outlinewidth": 0,
             "ticks": ""
            },
            "colorscale": [
             [
              0.0,
              "#0d0887"
             ],
             [
              0.1111111111111111,
              "#46039f"
             ],
             [
              0.2222222222222222,
              "#7201a8"
             ],
             [
              0.3333333333333333,
              "#9c179e"
             ],
             [
              0.4444444444444444,
              "#bd3786"
             ],
             [
              0.5555555555555556,
              "#d8576b"
             ],
             [
              0.6666666666666666,
              "#ed7953"
             ],
             [
              0.7777777777777778,
              "#fb9f3a"
             ],
             [
              0.8888888888888888,
              "#fdca26"
             ],
             [
              1.0,
              "#f0f921"
             ]
            ]
           }
          ],
          "contourcarpet": [
           {
            "type": "contourcarpet",
            "colorbar": {
             "outlinewidth": 0,
             "ticks": ""
            }
           }
          ],
          "contour": [
           {
            "type": "contour",
            "colorbar": {
             "outlinewidth": 0,
             "ticks": ""
            },
            "colorscale": [
             [
              0.0,
              "#0d0887"
             ],
             [
              0.1111111111111111,
              "#46039f"
             ],
             [
              0.2222222222222222,
              "#7201a8"
             ],
             [
              0.3333333333333333,
              "#9c179e"
             ],
             [
              0.4444444444444444,
              "#bd3786"
             ],
             [
              0.5555555555555556,
              "#d8576b"
             ],
             [
              0.6666666666666666,
              "#ed7953"
             ],
             [
              0.7777777777777778,
              "#fb9f3a"
             ],
             [
              0.8888888888888888,
              "#fdca26"
             ],
             [
              1.0,
              "#f0f921"
             ]
            ]
           }
          ],
          "surface": [
           {
            "type": "surface",
            "colorbar": {
             "outlinewidth": 0,
             "ticks": ""
            },
            "colorscale": [
             [
              0.0,
              "#0d0887"
             ],
             [
              0.1111111111111111,
              "#46039f"
             ],
             [
              0.2222222222222222,
              "#7201a8"
             ],
             [
              0.3333333333333333,
              "#9c179e"
             ],
             [
              0.4444444444444444,
              "#bd3786"
             ],
             [
              0.5555555555555556,
              "#d8576b"
             ],
             [
              0.6666666666666666,
              "#ed7953"
             ],
             [
              0.7777777777777778,
              "#fb9f3a"
             ],
             [
              0.8888888888888888,
              "#fdca26"
             ],
             [
              1.0,
              "#f0f921"
             ]
            ]
           }
          ],
          "mesh3d": [
           {
            "type": "mesh3d",
            "colorbar": {
             "outlinewidth": 0,
             "ticks": ""
            }
           }
          ],
          "scatter": [
           {
            "fillpattern": {
             "fillmode": "overlay",
             "size": 10,
             "solidity": 0.2
            },
            "type": "scatter"
           }
          ],
          "parcoords": [
           {
            "type": "parcoords",
            "line": {
             "colorbar": {
              "outlinewidth": 0,
              "ticks": ""
             }
            }
           }
          ],
          "scatterpolargl": [
           {
            "type": "scatterpolargl",
            "marker": {
             "colorbar": {
              "outlinewidth": 0,
              "ticks": ""
             }
            }
           }
          ],
          "bar": [
           {
            "error_x": {
             "color": "#2a3f5f"
            },
            "error_y": {
             "color": "#2a3f5f"
            },
            "marker": {
             "line": {
              "color": "#E5ECF6",
              "width": 0.5
             },
             "pattern": {
              "fillmode": "overlay",
              "size": 10,
              "solidity": 0.2
             }
            },
            "type": "bar"
           }
          ],
          "scattergeo": [
           {
            "type": "scattergeo",
            "marker": {
             "colorbar": {
              "outlinewidth": 0,
              "ticks": ""
             }
            }
           }
          ],
          "scatterpolar": [
           {
            "type": "scatterpolar",
            "marker": {
             "colorbar": {
              "outlinewidth": 0,
              "ticks": ""
             }
            }
           }
          ],
          "histogram": [
           {
            "marker": {
             "pattern": {
              "fillmode": "overlay",
              "size": 10,
              "solidity": 0.2
             }
            },
            "type": "histogram"
           }
          ],
          "scattergl": [
           {
            "type": "scattergl",
            "marker": {
             "colorbar": {
              "outlinewidth": 0,
              "ticks": ""
             }
            }
           }
          ],
          "scatter3d": [
           {
            "type": "scatter3d",
            "line": {
             "colorbar": {
              "outlinewidth": 0,
              "ticks": ""
             }
            },
            "marker": {
             "colorbar": {
              "outlinewidth": 0,
              "ticks": ""
             }
            }
           }
          ],
          "scattermapbox": [
           {
            "type": "scattermapbox",
            "marker": {
             "colorbar": {
              "outlinewidth": 0,
              "ticks": ""
             }
            }
           }
          ],
          "scatterternary": [
           {
            "type": "scatterternary",
            "marker": {
             "colorbar": {
              "outlinewidth": 0,
              "ticks": ""
             }
            }
           }
          ],
          "scattercarpet": [
           {
            "type": "scattercarpet",
            "marker": {
             "colorbar": {
              "outlinewidth": 0,
              "ticks": ""
             }
            }
           }
          ],
          "carpet": [
           {
            "aaxis": {
             "endlinecolor": "#2a3f5f",
             "gridcolor": "white",
             "linecolor": "white",
             "minorgridcolor": "white",
             "startlinecolor": "#2a3f5f"
            },
            "baxis": {
             "endlinecolor": "#2a3f5f",
             "gridcolor": "white",
             "linecolor": "white",
             "minorgridcolor": "white",
             "startlinecolor": "#2a3f5f"
            },
            "type": "carpet"
           }
          ],
          "table": [
           {
            "cells": {
             "fill": {
              "color": "#EBF0F8"
             },
             "line": {
              "color": "white"
             }
            },
            "header": {
             "fill": {
              "color": "#C8D4E3"
             },
             "line": {
              "color": "white"
             }
            },
            "type": "table"
           }
          ],
          "barpolar": [
           {
            "marker": {
             "line": {
              "color": "#E5ECF6",
              "width": 0.5
             },
             "pattern": {
              "fillmode": "overlay",
              "size": 10,
              "solidity": 0.2
             }
            },
            "type": "barpolar"
           }
          ],
          "pie": [
           {
            "automargin": true,
            "type": "pie"
           }
          ]
         },
         "layout": {
          "autotypenumbers": "strict",
          "colorway": [
           "#636efa",
           "#EF553B",
           "#00cc96",
           "#ab63fa",
           "#FFA15A",
           "#19d3f3",
           "#FF6692",
           "#B6E880",
           "#FF97FF",
           "#FECB52"
          ],
          "font": {
           "color": "#2a3f5f"
          },
          "hovermode": "closest",
          "hoverlabel": {
           "align": "left"
          },
          "paper_bgcolor": "white",
          "plot_bgcolor": "#E5ECF6",
          "polar": {
           "bgcolor": "#E5ECF6",
           "angularaxis": {
            "gridcolor": "white",
            "linecolor": "white",
            "ticks": ""
           },
           "radialaxis": {
            "gridcolor": "white",
            "linecolor": "white",
            "ticks": ""
           }
          },
          "ternary": {
           "bgcolor": "#E5ECF6",
           "aaxis": {
            "gridcolor": "white",
            "linecolor": "white",
            "ticks": ""
           },
           "baxis": {
            "gridcolor": "white",
            "linecolor": "white",
            "ticks": ""
           },
           "caxis": {
            "gridcolor": "white",
            "linecolor": "white",
            "ticks": ""
           }
          },
          "coloraxis": {
           "colorbar": {
            "outlinewidth": 0,
            "ticks": ""
           }
          },
          "colorscale": {
           "sequential": [
            [
             0.0,
             "#0d0887"
            ],
            [
             0.1111111111111111,
             "#46039f"
            ],
            [
             0.2222222222222222,
             "#7201a8"
            ],
            [
             0.3333333333333333,
             "#9c179e"
            ],
            [
             0.4444444444444444,
             "#bd3786"
            ],
            [
             0.5555555555555556,
             "#d8576b"
            ],
            [
             0.6666666666666666,
             "#ed7953"
            ],
            [
             0.7777777777777778,
             "#fb9f3a"
            ],
            [
             0.8888888888888888,
             "#fdca26"
            ],
            [
             1.0,
             "#f0f921"
            ]
           ],
           "sequentialminus": [
            [
             0.0,
             "#0d0887"
            ],
            [
             0.1111111111111111,
             "#46039f"
            ],
            [
             0.2222222222222222,
             "#7201a8"
            ],
            [
             0.3333333333333333,
             "#9c179e"
            ],
            [
             0.4444444444444444,
             "#bd3786"
            ],
            [
             0.5555555555555556,
             "#d8576b"
            ],
            [
             0.6666666666666666,
             "#ed7953"
            ],
            [
             0.7777777777777778,
             "#fb9f3a"
            ],
            [
             0.8888888888888888,
             "#fdca26"
            ],
            [
             1.0,
             "#f0f921"
            ]
           ],
           "diverging": [
            [
             0,
             "#8e0152"
            ],
            [
             0.1,
             "#c51b7d"
            ],
            [
             0.2,
             "#de77ae"
            ],
            [
             0.3,
             "#f1b6da"
            ],
            [
             0.4,
             "#fde0ef"
            ],
            [
             0.5,
             "#f7f7f7"
            ],
            [
             0.6,
             "#e6f5d0"
            ],
            [
             0.7,
             "#b8e186"
            ],
            [
             0.8,
             "#7fbc41"
            ],
            [
             0.9,
             "#4d9221"
            ],
            [
             1,
             "#276419"
            ]
           ]
          },
          "xaxis": {
           "gridcolor": "white",
           "linecolor": "white",
           "ticks": "",
           "title": {
            "standoff": 15
           },
           "zerolinecolor": "white",
           "automargin": true,
           "zerolinewidth": 2
          },
          "yaxis": {
           "gridcolor": "white",
           "linecolor": "white",
           "ticks": "",
           "title": {
            "standoff": 15
           },
           "zerolinecolor": "white",
           "automargin": true,
           "zerolinewidth": 2
          },
          "scene": {
           "xaxis": {
            "backgroundcolor": "#E5ECF6",
            "gridcolor": "white",
            "linecolor": "white",
            "showbackground": true,
            "ticks": "",
            "zerolinecolor": "white",
            "gridwidth": 2
           },
           "yaxis": {
            "backgroundcolor": "#E5ECF6",
            "gridcolor": "white",
            "linecolor": "white",
            "showbackground": true,
            "ticks": "",
            "zerolinecolor": "white",
            "gridwidth": 2
           },
           "zaxis": {
            "backgroundcolor": "#E5ECF6",
            "gridcolor": "white",
            "linecolor": "white",
            "showbackground": true,
            "ticks": "",
            "zerolinecolor": "white",
            "gridwidth": 2
           }
          },
          "shapedefaults": {
           "line": {
            "color": "#2a3f5f"
           }
          },
          "annotationdefaults": {
           "arrowcolor": "#2a3f5f",
           "arrowhead": 0,
           "arrowwidth": 1
          },
          "geo": {
           "bgcolor": "white",
           "landcolor": "#E5ECF6",
           "subunitcolor": "white",
           "showland": true,
           "showlakes": true,
           "lakecolor": "white"
          },
          "title": {
           "x": 0.05
          },
          "mapbox": {
           "style": "light"
          }
         }
        }
       },
       "config": {
        "plotlyServerURL": "https://plot.ly"
       }
      },
      "text/html": "<div>                            <div id=\"f7b4ad8b-52e7-48ba-ad63-69b82aea2277\" class=\"plotly-graph-div\" style=\"height:525px; width:100%;\"></div>            <script type=\"text/javascript\">                require([\"plotly\"], function(Plotly) {                    window.PLOTLYENV=window.PLOTLYENV || {};                                    if (document.getElementById(\"f7b4ad8b-52e7-48ba-ad63-69b82aea2277\")) {                    Plotly.newPlot(                        \"f7b4ad8b-52e7-48ba-ad63-69b82aea2277\",                        [{\"link\":{\"source\":[45,45,45,45,45,45,45,45,45,45,45,45,45,45,45,45,45,45,45,45,45,45,45,45,45,45,45,45,45,45,45,45,45,45,45,45,45,45,45,45,45,45,45,45,45,45,0,1,2,3,4,5,6,7,8,9,10,11,12,13,14,15,16,17,18,19,20,21,22,23,24,25,26,27,28,29,30,31,32,33,34,35,36,37,38,39,40,41,42,43,44,45],\"target\":[0,1,2,3,4,5,6,7,8,9,10,11,12,13,14,15,16,17,18,19,20,21,22,23,24,25,26,27,28,29,30,31,32,33,34,35,36,37,38,39,40,41,42,43,44,46,46,46,46,46,46,46,46,46,46,46,46,46,46,46,46,46,46,46,46,46,46,46,46,46,46,46,46,46,46,46,46,46,46,46,46,46,46,46,46,46,46,46,46,46,46,46],\"value\":[4,6,4,2,3,5,3,3,3,1,3,6,2,2,2,5,3,1,1,4,4,2,2,2,2,3,3,3,1,1,1,1,1,1,1,1,1,1,1,1,1,2,2,2,2,0,9,7,5,6,5,3,4,4,4,5,3,1,3,3,3,1,2,3,3,1,1,2,2,2,2,1,1,1,2,2,2,2,2,2,2,2,2,2,2,2,2,1,1,1,1,0]},\"node\":{\"label\":[\"\\u5929\",\"\\u8056\",\"\\u4e4b\",\"\\u7687\",\"\\u5b50\",\"\\u660e\",\"\\u5fb7\",\"\\u4e0a\",\"\\u4e7e\",\"\\u795e\",\"\\u96f2\",\"\\u5149\",\"\\u660e\\u660e\",\"\\u98a8\",\"\\u671d\",\"\\u6708\",\"\\u7384\",\"\\u5bb9\",\"\\u7687\\u7687\",\"\\u4e2d\",\"\\u4eba\",\"\\u7fa3\",\"\\u81e8\",\"\\u529f\",\"\\u5316\",\"\\u4f55\",\"\\u5dcd\\u5dcd\",\"\\u738b\",\"\\u4e0b\",\"\\u9748\",\"\\u5100\",\"\\u6e05\",\"\\u76db\",\"\\u96cd\\u96cd\",\"\\u777f\",\"\\u5fc3\",\"\\u9f4a\",\"\\u5b97\",\"\\u60df\",\"\\u5f7c\",\"\\u540e\",\"\\u751f\",\"\\u6d2a\",\"\\u570b\",\"\\u7232\",\"\\u8d6b\\u8d6b\",\"\\u7a46\\u7a46\"],\"line\":{\"color\":\"black\",\"width\":0.5},\"pad\":15,\"thickness\":20},\"type\":\"sankey\"}],                        {\"font\":{\"size\":10},\"title\":{\"text\":\"Sankey Diagram Example\"},\"template\":{\"data\":{\"histogram2dcontour\":[{\"type\":\"histogram2dcontour\",\"colorbar\":{\"outlinewidth\":0,\"ticks\":\"\"},\"colorscale\":[[0.0,\"#0d0887\"],[0.1111111111111111,\"#46039f\"],[0.2222222222222222,\"#7201a8\"],[0.3333333333333333,\"#9c179e\"],[0.4444444444444444,\"#bd3786\"],[0.5555555555555556,\"#d8576b\"],[0.6666666666666666,\"#ed7953\"],[0.7777777777777778,\"#fb9f3a\"],[0.8888888888888888,\"#fdca26\"],[1.0,\"#f0f921\"]]}],\"choropleth\":[{\"type\":\"choropleth\",\"colorbar\":{\"outlinewidth\":0,\"ticks\":\"\"}}],\"histogram2d\":[{\"type\":\"histogram2d\",\"colorbar\":{\"outlinewidth\":0,\"ticks\":\"\"},\"colorscale\":[[0.0,\"#0d0887\"],[0.1111111111111111,\"#46039f\"],[0.2222222222222222,\"#7201a8\"],[0.3333333333333333,\"#9c179e\"],[0.4444444444444444,\"#bd3786\"],[0.5555555555555556,\"#d8576b\"],[0.6666666666666666,\"#ed7953\"],[0.7777777777777778,\"#fb9f3a\"],[0.8888888888888888,\"#fdca26\"],[1.0,\"#f0f921\"]]}],\"heatmap\":[{\"type\":\"heatmap\",\"colorbar\":{\"outlinewidth\":0,\"ticks\":\"\"},\"colorscale\":[[0.0,\"#0d0887\"],[0.1111111111111111,\"#46039f\"],[0.2222222222222222,\"#7201a8\"],[0.3333333333333333,\"#9c179e\"],[0.4444444444444444,\"#bd3786\"],[0.5555555555555556,\"#d8576b\"],[0.6666666666666666,\"#ed7953\"],[0.7777777777777778,\"#fb9f3a\"],[0.8888888888888888,\"#fdca26\"],[1.0,\"#f0f921\"]]}],\"heatmapgl\":[{\"type\":\"heatmapgl\",\"colorbar\":{\"outlinewidth\":0,\"ticks\":\"\"},\"colorscale\":[[0.0,\"#0d0887\"],[0.1111111111111111,\"#46039f\"],[0.2222222222222222,\"#7201a8\"],[0.3333333333333333,\"#9c179e\"],[0.4444444444444444,\"#bd3786\"],[0.5555555555555556,\"#d8576b\"],[0.6666666666666666,\"#ed7953\"],[0.7777777777777778,\"#fb9f3a\"],[0.8888888888888888,\"#fdca26\"],[1.0,\"#f0f921\"]]}],\"contourcarpet\":[{\"type\":\"contourcarpet\",\"colorbar\":{\"outlinewidth\":0,\"ticks\":\"\"}}],\"contour\":[{\"type\":\"contour\",\"colorbar\":{\"outlinewidth\":0,\"ticks\":\"\"},\"colorscale\":[[0.0,\"#0d0887\"],[0.1111111111111111,\"#46039f\"],[0.2222222222222222,\"#7201a8\"],[0.3333333333333333,\"#9c179e\"],[0.4444444444444444,\"#bd3786\"],[0.5555555555555556,\"#d8576b\"],[0.6666666666666666,\"#ed7953\"],[0.7777777777777778,\"#fb9f3a\"],[0.8888888888888888,\"#fdca26\"],[1.0,\"#f0f921\"]]}],\"surface\":[{\"type\":\"surface\",\"colorbar\":{\"outlinewidth\":0,\"ticks\":\"\"},\"colorscale\":[[0.0,\"#0d0887\"],[0.1111111111111111,\"#46039f\"],[0.2222222222222222,\"#7201a8\"],[0.3333333333333333,\"#9c179e\"],[0.4444444444444444,\"#bd3786\"],[0.5555555555555556,\"#d8576b\"],[0.6666666666666666,\"#ed7953\"],[0.7777777777777778,\"#fb9f3a\"],[0.8888888888888888,\"#fdca26\"],[1.0,\"#f0f921\"]]}],\"mesh3d\":[{\"type\":\"mesh3d\",\"colorbar\":{\"outlinewidth\":0,\"ticks\":\"\"}}],\"scatter\":[{\"fillpattern\":{\"fillmode\":\"overlay\",\"size\":10,\"solidity\":0.2},\"type\":\"scatter\"}],\"parcoords\":[{\"type\":\"parcoords\",\"line\":{\"colorbar\":{\"outlinewidth\":0,\"ticks\":\"\"}}}],\"scatterpolargl\":[{\"type\":\"scatterpolargl\",\"marker\":{\"colorbar\":{\"outlinewidth\":0,\"ticks\":\"\"}}}],\"bar\":[{\"error_x\":{\"color\":\"#2a3f5f\"},\"error_y\":{\"color\":\"#2a3f5f\"},\"marker\":{\"line\":{\"color\":\"#E5ECF6\",\"width\":0.5},\"pattern\":{\"fillmode\":\"overlay\",\"size\":10,\"solidity\":0.2}},\"type\":\"bar\"}],\"scattergeo\":[{\"type\":\"scattergeo\",\"marker\":{\"colorbar\":{\"outlinewidth\":0,\"ticks\":\"\"}}}],\"scatterpolar\":[{\"type\":\"scatterpolar\",\"marker\":{\"colorbar\":{\"outlinewidth\":0,\"ticks\":\"\"}}}],\"histogram\":[{\"marker\":{\"pattern\":{\"fillmode\":\"overlay\",\"size\":10,\"solidity\":0.2}},\"type\":\"histogram\"}],\"scattergl\":[{\"type\":\"scattergl\",\"marker\":{\"colorbar\":{\"outlinewidth\":0,\"ticks\":\"\"}}}],\"scatter3d\":[{\"type\":\"scatter3d\",\"line\":{\"colorbar\":{\"outlinewidth\":0,\"ticks\":\"\"}},\"marker\":{\"colorbar\":{\"outlinewidth\":0,\"ticks\":\"\"}}}],\"scattermapbox\":[{\"type\":\"scattermapbox\",\"marker\":{\"colorbar\":{\"outlinewidth\":0,\"ticks\":\"\"}}}],\"scatterternary\":[{\"type\":\"scatterternary\",\"marker\":{\"colorbar\":{\"outlinewidth\":0,\"ticks\":\"\"}}}],\"scattercarpet\":[{\"type\":\"scattercarpet\",\"marker\":{\"colorbar\":{\"outlinewidth\":0,\"ticks\":\"\"}}}],\"carpet\":[{\"aaxis\":{\"endlinecolor\":\"#2a3f5f\",\"gridcolor\":\"white\",\"linecolor\":\"white\",\"minorgridcolor\":\"white\",\"startlinecolor\":\"#2a3f5f\"},\"baxis\":{\"endlinecolor\":\"#2a3f5f\",\"gridcolor\":\"white\",\"linecolor\":\"white\",\"minorgridcolor\":\"white\",\"startlinecolor\":\"#2a3f5f\"},\"type\":\"carpet\"}],\"table\":[{\"cells\":{\"fill\":{\"color\":\"#EBF0F8\"},\"line\":{\"color\":\"white\"}},\"header\":{\"fill\":{\"color\":\"#C8D4E3\"},\"line\":{\"color\":\"white\"}},\"type\":\"table\"}],\"barpolar\":[{\"marker\":{\"line\":{\"color\":\"#E5ECF6\",\"width\":0.5},\"pattern\":{\"fillmode\":\"overlay\",\"size\":10,\"solidity\":0.2}},\"type\":\"barpolar\"}],\"pie\":[{\"automargin\":true,\"type\":\"pie\"}]},\"layout\":{\"autotypenumbers\":\"strict\",\"colorway\":[\"#636efa\",\"#EF553B\",\"#00cc96\",\"#ab63fa\",\"#FFA15A\",\"#19d3f3\",\"#FF6692\",\"#B6E880\",\"#FF97FF\",\"#FECB52\"],\"font\":{\"color\":\"#2a3f5f\"},\"hovermode\":\"closest\",\"hoverlabel\":{\"align\":\"left\"},\"paper_bgcolor\":\"white\",\"plot_bgcolor\":\"#E5ECF6\",\"polar\":{\"bgcolor\":\"#E5ECF6\",\"angularaxis\":{\"gridcolor\":\"white\",\"linecolor\":\"white\",\"ticks\":\"\"},\"radialaxis\":{\"gridcolor\":\"white\",\"linecolor\":\"white\",\"ticks\":\"\"}},\"ternary\":{\"bgcolor\":\"#E5ECF6\",\"aaxis\":{\"gridcolor\":\"white\",\"linecolor\":\"white\",\"ticks\":\"\"},\"baxis\":{\"gridcolor\":\"white\",\"linecolor\":\"white\",\"ticks\":\"\"},\"caxis\":{\"gridcolor\":\"white\",\"linecolor\":\"white\",\"ticks\":\"\"}},\"coloraxis\":{\"colorbar\":{\"outlinewidth\":0,\"ticks\":\"\"}},\"colorscale\":{\"sequential\":[[0.0,\"#0d0887\"],[0.1111111111111111,\"#46039f\"],[0.2222222222222222,\"#7201a8\"],[0.3333333333333333,\"#9c179e\"],[0.4444444444444444,\"#bd3786\"],[0.5555555555555556,\"#d8576b\"],[0.6666666666666666,\"#ed7953\"],[0.7777777777777778,\"#fb9f3a\"],[0.8888888888888888,\"#fdca26\"],[1.0,\"#f0f921\"]],\"sequentialminus\":[[0.0,\"#0d0887\"],[0.1111111111111111,\"#46039f\"],[0.2222222222222222,\"#7201a8\"],[0.3333333333333333,\"#9c179e\"],[0.4444444444444444,\"#bd3786\"],[0.5555555555555556,\"#d8576b\"],[0.6666666666666666,\"#ed7953\"],[0.7777777777777778,\"#fb9f3a\"],[0.8888888888888888,\"#fdca26\"],[1.0,\"#f0f921\"]],\"diverging\":[[0,\"#8e0152\"],[0.1,\"#c51b7d\"],[0.2,\"#de77ae\"],[0.3,\"#f1b6da\"],[0.4,\"#fde0ef\"],[0.5,\"#f7f7f7\"],[0.6,\"#e6f5d0\"],[0.7,\"#b8e186\"],[0.8,\"#7fbc41\"],[0.9,\"#4d9221\"],[1,\"#276419\"]]},\"xaxis\":{\"gridcolor\":\"white\",\"linecolor\":\"white\",\"ticks\":\"\",\"title\":{\"standoff\":15},\"zerolinecolor\":\"white\",\"automargin\":true,\"zerolinewidth\":2},\"yaxis\":{\"gridcolor\":\"white\",\"linecolor\":\"white\",\"ticks\":\"\",\"title\":{\"standoff\":15},\"zerolinecolor\":\"white\",\"automargin\":true,\"zerolinewidth\":2},\"scene\":{\"xaxis\":{\"backgroundcolor\":\"#E5ECF6\",\"gridcolor\":\"white\",\"linecolor\":\"white\",\"showbackground\":true,\"ticks\":\"\",\"zerolinecolor\":\"white\",\"gridwidth\":2},\"yaxis\":{\"backgroundcolor\":\"#E5ECF6\",\"gridcolor\":\"white\",\"linecolor\":\"white\",\"showbackground\":true,\"ticks\":\"\",\"zerolinecolor\":\"white\",\"gridwidth\":2},\"zaxis\":{\"backgroundcolor\":\"#E5ECF6\",\"gridcolor\":\"white\",\"linecolor\":\"white\",\"showbackground\":true,\"ticks\":\"\",\"zerolinecolor\":\"white\",\"gridwidth\":2}},\"shapedefaults\":{\"line\":{\"color\":\"#2a3f5f\"}},\"annotationdefaults\":{\"arrowcolor\":\"#2a3f5f\",\"arrowhead\":0,\"arrowwidth\":1},\"geo\":{\"bgcolor\":\"white\",\"landcolor\":\"#E5ECF6\",\"subunitcolor\":\"white\",\"showland\":true,\"showlakes\":true,\"lakecolor\":\"white\"},\"title\":{\"x\":0.05},\"mapbox\":{\"style\":\"light\"}}}},                        {\"responsive\": true}                    ).then(function(){\n                            \nvar gd = document.getElementById('f7b4ad8b-52e7-48ba-ad63-69b82aea2277');\nvar x = new MutationObserver(function (mutations, observer) {{\n        var display = window.getComputedStyle(gd).display;\n        if (!display || display === 'none') {{\n            console.log([gd, 'removed!']);\n            Plotly.purge(gd);\n            observer.disconnect();\n        }}\n}});\n\n// Listen for the removal of the full notebook cells\nvar notebookContainer = gd.closest('#notebook-container');\nif (notebookContainer) {{\n    x.observe(notebookContainer, {childList: true});\n}}\n\n// Listen for the clearing of the current output cell\nvar outputEl = gd.closest('.output');\nif (outputEl) {{\n    x.observe(outputEl, {childList: true});\n}}\n\n                        })                };                });            </script>        </div>"
     },
     "metadata": {},
     "output_type": "display_data"
    }
   ],
   "source": [
    "import plotly.graph_objs as go\n",
    "\n",
    "# 数据\n",
    "source = []  # 源节点\n",
    "target = []  # 目标节点\n",
    "value = []    # 流量值\n",
    "for link in links:\n",
    "    source.append(sorted_labels.index(link[\"source\"]))\n",
    "    target.append(sorted_labels.index(link[\"target\"]))\n",
    "    value.append(link[\"value\"])\n",
    "\n",
    "    \n",
    "# 创建桑基图\n",
    "sankey_data = go.Sankey(\n",
    "    node=dict(\n",
    "        pad=15,\n",
    "        thickness=20,\n",
    "        line=dict(color=\"black\", width=0.5),\n",
    "        label=sorted_labels,\n",
    "    ),\n",
    "    link=dict(\n",
    "        source=source,\n",
    "        target=target,\n",
    "        value=value,\n",
    "    )\n",
    ")\n",
    "\n",
    "# 布局设置\n",
    "layout = dict(\n",
    "    title=\"Sankey Diagram Example\",\n",
    "    font=dict(size=10)\n",
    ")\n",
    "\n",
    "# 创建Figure并显示图形\n",
    "fig = go.Figure(data=[sankey_data], layout=layout)\n",
    "fig.show()\n"
   ],
   "metadata": {
    "collapsed": false,
    "ExecuteTime": {
     "end_time": "2023-10-07T13:16:33.135640300Z",
     "start_time": "2023-10-07T13:16:33.128556700Z"
    }
   }
  },
  {
   "cell_type": "code",
   "execution_count": null,
   "outputs": [],
   "source": [],
   "metadata": {
    "collapsed": false
   }
  }
 ],
 "metadata": {
  "kernelspec": {
   "display_name": "Python 3",
   "language": "python",
   "name": "python3"
  },
  "language_info": {
   "codemirror_mode": {
    "name": "ipython",
    "version": 3
   },
   "file_extension": ".py",
   "mimetype": "text/x-python",
   "name": "python",
   "nbconvert_exporter": "python",
   "pygments_lexer": "ipython3",
   "version": "3.11.0"
  },
  "orig_nbformat": 4
 },
 "nbformat": 4,
 "nbformat_minor": 2
}
