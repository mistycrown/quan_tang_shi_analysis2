{
 "cells": [
  {
   "cell_type": "code",
   "execution_count": 1,
   "metadata": {
    "ExecuteTime": {
     "end_time": "2023-10-08T06:20:24.539405800Z",
     "start_time": "2023-10-08T06:20:23.784266Z"
    }
   },
   "outputs": [
    {
     "name": "stdout",
     "output_type": "stream",
     "text": [
      "['秦 川 雄 帝 宅 ， 函 谷 壯 皇 居 。', '綺 殿 千 尋 起 ， 離 宮 百 雉 餘 。', '連 甍 遙 接 漢 ， 飛 觀 迥 凌 虛 。', '雲 日 隱 層 闕 ， 風 煙 出 綺 疎 。', '巖 廊 罷 機 務 ， 崇 文 聊 駐 輦 。', '玉 匣 啓 龍 圖 ， 金 繩 披 鳳 篆 。', '韋 編 斷 仍 續 ， 縹 帙 舒 還 卷 。', '對 此 乃 淹 留 ， 欹 案 觀 墳 典 。', '移 步 出 詞 林 ， 停 輿 欣 武 宴 。', '琱 弓 寫 明 月 ， 駿 馬 疑 流 電 。']\n",
      "[['秦', '川', '雄', '帝', '宅', '，', '函', '谷', '壯', '皇', '居', '。'], ['綺', '殿', '千', '尋', '起', '，', '離', '宮', '百', '雉', '餘', '。'], ['連', '甍', '遙', '接', '漢', '，', '飛', '觀', '迥', '凌', '虛', '。'], ['雲', '日', '隱', '層', '闕', '，', '風', '煙', '出', '綺', '疎', '。'], ['巖', '廊', '罷', '機', '務', '，', '崇', '文', '聊', '駐', '輦', '。'], ['玉', '匣', '啓', '龍', '圖', '，', '金', '繩', '披', '鳳', '篆', '。'], ['韋', '編', '斷', '仍', '續', '，', '縹', '帙', '舒', '還', '卷', '。'], ['對', '此', '乃', '淹', '留', '，', '欹', '案', '觀', '墳', '典', '。'], ['移', '步', '出', '詞', '林', '，', '停', '輿', '欣', '武', '宴', '。'], ['琱', '弓', '寫', '明', '月', '，', '駿', '馬', '疑', '流', '電', '。']]\n",
      "['蕭蕭', '冪冪', '迢迢', '眷眷', '薄薄', '永永', '搖搖', '朗朗', '苒苒', '泠泠']\n"
     ]
    }
   ],
   "source": [
    "# 导入全唐诗和重言词数据，按照字进行分词\n",
    "import json\n",
    "with open('output/quantangshi_token.txt','r',encoding= 'utf-8') as f:\n",
    "    qtsli =[x.replace('\\n',\"\") for x in f.readlines()] \n",
    "print(qtsli[:10])\n",
    "tokenized_corpus = [x.split() for x in qtsli]\n",
    "print(tokenized_corpus[:10])\n",
    "\n",
    "import pickle,json,time\n",
    "with open('output/chongyanlist.pkl', 'rb') as file:\n",
    "    cy_set = list(pickle.load(file))\n",
    "print(cy_set[:10])"
   ]
  },
  {
   "cell_type": "code",
   "execution_count": 2,
   "metadata": {
    "ExecuteTime": {
     "end_time": "2023-10-08T06:20:38.549966Z",
     "start_time": "2023-10-08T06:20:24.538898700Z"
    }
   },
   "outputs": [
    {
     "name": "stdout",
     "output_type": "stream",
     "text": [
      "['君', '不', '見', '宜', '春', '苑', '中', '九', '華', '殿', '，', '飛', '閣', '連連', '直', '如', '髮', '。', '幽', '陵', '異', '域', '風', '煙', '改', '，', '亭', '障', '連連', '古', '今', '在', '。', '騎', '連連', '，', '車', '遲遲', '。', '朱', '弦', '一', '一', '聲', '不', '同', '，', '玉', '柱', '連連', '影', '相', '似', '。', '君', '不', '見', '宜', '春', '苑', '中', '九', '華', '殿', '，', '飛', '閣', '連連', '直', '如', '髮', '。', '橐', '駞', '何', '連連', '，', '穹', '帳', '亦', '纍纍', '。', '一', '節', '一', '目', '皆', '天', '然', '，', '珠', '重重', '，', '星', '連連', '。', '汲', '井', '歲', '榾', '榾', '，', '出', '車', '日', '連連', '。', '漠漠', '虛', '無', '裏', '，', '連連', '睥', '睨', '侵', '。', '自', '從', '二', '主', '來', '，', '此', '禍', '竟', '連連', '。', '連連', '寒', '溜', '下', '陰', '軒', '，', '熒熒', '泫', '露', '垂', '秋', '草', '。', '遠', '揚', '邇', '昭', '，', '陟', '降', '連連', '。', '軋軋', '渡', '水', '槳', '，', '連連', '赴', '林', '鴉', '。', '連', '山', '何', '連連', '，', '連', '天', '碧', '岑', '岑', '。', '斤', '磨', '片', '片', '雪', '，', '椎', '隱', '連連', '珠', '。', '一', '一', '牀', '頭', '點', '，', '連連', '砌', '下', '泡', '。', '憶', '昨', '陰', '霖', '天', '，', '連連', '三', '四', '旬', '。', '慘慘', '八', '月', '暮', '，', '連連', '三', '日', '霖', '。', '西', '來', '風', '褭褭', '，', '南', '去', '雁', '連連', '。', '鄱', '陽', '勝', '事', '聞', '難', '比', '，', '千', '里', '連連', '是', '稻', '畦', '。', '連連', '貫', '珠', '並', '，', '嬝', '嬝', '遏', '雲', '頻', '。', '有', '時', '風', '卷', '天', '雨', '晴', '，', '聚', '立', '連連', '如', '弟', '兄', '。', '花', '驄', '躞', '蹀', '遊', '龍', '驕', '，', '連連', '寶', '節', '揮', '長', '鞘', '。', '登', '望', '思', '慮', '積', '，', '長', '亭', '樹', '連連', '。', '一', '旦', '形', '羸', '又', '髮', '白', '，', '舊', '遊', '空', '使', '淚', '連連', '。', '龍', '樓', '錦', '障', '連連', '出', '，', '遙', '望', '梁', '臺', '如', '晝', '日', '。', '蓋', '上', '連連', '九', '箇', '星', '，', '名', '曰', '傳', '舍', '如', '連', '丁', '。', '春', '初', '先', '作', '旱', '，', '夏', '首', '水', '連連', '，', '末', '秋', '風', '火', '急', '，', '禾', '稻', '不', '豐', '鮮', '。']\n"
     ]
    }
   ],
   "source": [
    "# 统计每一个词的共现词有哪些，以列表存储\n",
    "from collections import defaultdict\n",
    "cy_linedict = defaultdict(list)\n",
    "\n",
    "for cyword in cy_set:\n",
    "    for line in tokenized_corpus:\n",
    "        if cyword in line:\n",
    "            cy_linedict[cyword] = cy_linedict[cyword] + line\n",
    "            \n",
    "print(cy_linedict['連連'])"
   ]
  },
  {
   "cell_type": "code",
   "execution_count": 3,
   "metadata": {
    "ExecuteTime": {
     "end_time": "2023-10-08T06:20:38.619896300Z",
     "start_time": "2023-10-08T06:20:38.552359200Z"
    }
   },
   "outputs": [
    {
     "name": "stdout",
     "output_type": "stream",
     "text": [
      "Counter({'，': 31, '連連': 28, '。': 28, '一': 7, '如': 5, '不': 4, '風': 4, '天': 4, '春': 3, '九': 3, '髮': 3, '珠': 3, '日': 3, '連': 3, '君': 2, '見': 2, '宜': 2, '苑': 2, '中': 2, '華': 2, '殿': 2, '飛': 2, '閣': 2, '直': 2, '亭': 2, '障': 2, '車': 2, '何': 2, '節': 2, '星': 2, '榾': 2, '出': 2, '來': 2, '下': 2, '陰': 2, '秋': 2, '水': 2, '岑': 2, '片': 2, '霖': 2, '三': 2, '稻': 2, '嬝': 2, '遊': 2, '龍': 2, '長': 2, '望': 2, '幽': 1, '陵': 1, '異': 1, '域': 1, '煙': 1, '改': 1, '古': 1, '今': 1, '在': 1, '騎': 1, '遲遲': 1, '朱': 1, '弦': 1, '聲': 1, '同': 1, '玉': 1, '柱': 1, '影': 1, '相': 1, '似': 1, '橐': 1, '駞': 1, '穹': 1, '帳': 1, '亦': 1, '纍纍': 1, '目': 1, '皆': 1, '然': 1, '重重': 1, '汲': 1, '井': 1, '歲': 1, '漠漠': 1, '虛': 1, '無': 1, '裏': 1, '睥': 1, '睨': 1, '侵': 1, '自': 1, '從': 1, '二': 1, '主': 1, '此': 1, '禍': 1, '竟': 1, '寒': 1, '溜': 1, '軒': 1, '熒熒': 1, '泫': 1, '露': 1, '垂': 1, '草': 1, '遠': 1, '揚': 1, '邇': 1, '昭': 1, '陟': 1, '降': 1, '軋軋': 1, '渡': 1, '槳': 1, '赴': 1, '林': 1, '鴉': 1, '山': 1, '碧': 1, '斤': 1, '磨': 1, '雪': 1, '椎': 1, '隱': 1, '牀': 1, '頭': 1, '點': 1, '砌': 1, '泡': 1, '憶': 1, '昨': 1, '四': 1, '旬': 1, '慘慘': 1, '八': 1, '月': 1, '暮': 1, '西': 1, '褭褭': 1, '南': 1, '去': 1, '雁': 1, '鄱': 1, '陽': 1, '勝': 1, '事': 1, '聞': 1, '難': 1, '比': 1, '千': 1, '里': 1, '是': 1, '畦': 1, '貫': 1, '並': 1, '遏': 1, '雲': 1, '頻': 1, '有': 1, '時': 1, '卷': 1, '雨': 1, '晴': 1, '聚': 1, '立': 1, '弟': 1, '兄': 1, '花': 1, '驄': 1, '躞': 1, '蹀': 1, '驕': 1, '寶': 1, '揮': 1, '鞘': 1, '登': 1, '思': 1, '慮': 1, '積': 1, '樹': 1, '旦': 1, '形': 1, '羸': 1, '又': 1, '白': 1, '舊': 1, '空': 1, '使': 1, '淚': 1, '樓': 1, '錦': 1, '遙': 1, '梁': 1, '臺': 1, '晝': 1, '蓋': 1, '上': 1, '箇': 1, '名': 1, '曰': 1, '傳': 1, '舍': 1, '丁': 1, '初': 1, '先': 1, '作': 1, '旱': 1, '夏': 1, '首': 1, '末': 1, '火': 1, '急': 1, '禾': 1, '豐': 1, '鮮': 1})\n"
     ]
    }
   ],
   "source": [
    "# 统计每个重言词的共现词的频词\n",
    "from collections import Counter\n",
    "cy_counter = {}\n",
    "for cyword,cywordlines in cy_linedict.items():\n",
    "    element_count = Counter(cywordlines)\n",
    "    cy_counter[cyword] = element_count\n",
    "print(cy_counter['連連'])\n"
   ]
  },
  {
   "cell_type": "code",
   "execution_count": 23,
   "outputs": [],
   "source": [
    "def sanjilist(wordli):\n",
    "    countsli = [cy_counter[x] for x in wordli]\n",
    "    countsumli = [sum(countsli[wordli.index(x)].values()) for x in wordli]\n",
    "    \n",
    "    # 找每两个词的共同共现词组合成一个交集\n",
    "    intersation = set()\n",
    "    for i in wordli:\n",
    "        for j in wordli:\n",
    "            if i == j:\n",
    "                continue\n",
    "            keys1 = countsli[wordli.index(i)].keys()\n",
    "            keys2 = countsli[wordli.index(j)].keys()\n",
    "            aintersation = set(keys1) & set(keys2)\n",
    "            intersation = aintersation | intersation \n",
    "    print(intersation)\n",
    "    \n",
    "    # 找个词在所有词出现的总次数，如果低于某个阈值就不出现，形成一个交集\n",
    "    intersation_gap = len(wordli)\n",
    "    intersation2 = []\n",
    "    bingji = []\n",
    "    for i in wordli:\n",
    "        gongxianwords = countsli[wordli.index(i)].keys()\n",
    "        bingji += gongxianwords\n",
    "    # print(bingji)\n",
    "    bingjicount = [0] * len(bingji)\n",
    "    for i in wordli:\n",
    "        for ind,j in enumerate(bingji):\n",
    "            bingjicount[ind] += countsli[wordli.index(i)][j]\n",
    "    # print(bingjicount)\n",
    "    for i in range(len(bingji)):\n",
    "        gongxianword = bingji[i]\n",
    "        if gongxianword in  ['，','。','！','？']:\n",
    "            continue\n",
    "        if bingjicount[i] <= intersation_gap:\n",
    "            continue\n",
    "        intersation2.append(gongxianword)\n",
    "    print(intersation2)\n",
    "    \n",
    "    # 找同时满足两个条件的共现词\n",
    "    intersation = list(intersation & set(intersation2))\n",
    "    print(intersation)\n",
    "    \n",
    "    for i in wordli:\n",
    "        if i not in intersation:\n",
    "            intersation.append(i)\n",
    "        \n",
    "    # 生成节点和边\n",
    "    nodes = []\n",
    "    for label in intersation:\n",
    "        nodes.append({'name':label})   \n",
    "    \n",
    "    links = []\n",
    "    for ind,word in enumerate(wordli):\n",
    "        for gongxianword in intersation:\n",
    "            if gongxianword in wordli:\n",
    "                if wordli.index(gongxianword) <= ind:\n",
    "                    continue\n",
    "            conuts = countsli[wordli.index(word)]\n",
    "            value = conuts[gongxianword]\n",
    "            if value != 0:\n",
    "                links.append({'source':word,'target':gongxianword,'value':value})\n",
    "            \n",
    "    print(links[-1])\n",
    "    \n",
    "    # 生成桑基图\n",
    "    sankey = (\n",
    "        Sankey()\n",
    "        .add(\n",
    "            \"\",\n",
    "            nodes,\n",
    "            links,\n",
    "            orient =\"vertical\",\n",
    "            node_gap = 5,\n",
    "            linestyle_opt=opts.LineStyleOpts(opacity=0.3, curve=0.5, color=\"source\",type_=\"dotted\"),\n",
    "            label_opts=opts.LabelOpts(position=\"top\",),\n",
    "        )\n",
    "        .set_global_opts(title_opts=opts.TitleOpts(title=f\"{' '.join(wordli)}共同共现词\"))\n",
    "    )\n",
    "    \n",
    "    # 保存图表为 HTML 文件\n",
    "    sankey.render(f\"output/{' '.join(wordli)}共现词.html\")  "
   ],
   "metadata": {
    "collapsed": false,
    "ExecuteTime": {
     "end_time": "2023-10-08T08:33:15.241661600Z",
     "start_time": "2023-10-08T08:33:15.231095Z"
    }
   }
  },
  {
   "cell_type": "code",
   "execution_count": 24,
   "outputs": [
    {
     "name": "stdout",
     "output_type": "stream",
     "text": [
      "{'恢', '資', '黃', '尚', '大', '竟', '蠅', '十', '泠泠', '已', '嘉', '石', '慶', '友', '西', '臺', '疎', '期', '山', '猷', '寂寂', '起', '懸', '仙', '入', '霧', '雍雍', '纓', '傍', '歌', '悠悠', '埃', '姿', '客', '明', '秋', '氣', '異', '無', '夏', '何', '河', '惟', '近', '懷', '賢', '小', '之', '良', '濟濟', '關', '武', '鬯', '領', '金', '皆', '京', '森森', '靈', '守', '還', '手', '鸞', '赤', '莫', '書', '煌煌', '登', '典', '受', '聲', '粹', '豈', '發', '翩翩', '濤', '地', '鮮', '雲', '祠', '宿', '命', '。', '戒', '啓', '列', '鏡', '造', '晨', '竹', '福', '紳', '忽', '萸', '則', '節', '香', '舊', '鏞', '澄', '清', '初', '扇', '彼', '鹿', '踰', '九', '后', '洪', '朱', '旅', '亦', '功', '奏', '一', '源', '子', '冠', '英', '其', '陽', '燎', '粲粲', '共', '芳', '古', '重', '桂', '玄', '趣', '網', '麟', '長', '然', '酒', '衛', '俱', '甚', '鳴', '闔', '空', '濃', '穹', '簡', '于', '如', '夜', '暉', '見', '漏', '陰', '英英', '得', '裾', '故', '享', '代', '賦', '奕奕', '徂', '章', '舉', '轉', '；', '師', '生', '先', '復', '兮', '龍', '將', '蒼', '多', '詞', '送', '坤', '潔', '昔', '欲', '萬', '都', '馨', '若', '就', '廷', '晚', '仰', '離', '輝', '稜稜', '興', '璽', '今', '苑', '雪', '營', '名', '誰', '振', '鬱鬱', '闢', '白', '聽', '儀', '注', '盡', '揚', '以', '閑', '滔滔', '義', '遙', '舒', '色', '花', '邃', '定', '國', '處', '自', '堂', '側', '執', '駸駸', '羣', '油油', '燃', '宸', '間', '太', '戎', '延', '疑', '神', '熒熒', '事', '饗', '鳳', '四', '藝', '沙', '水', '及', '孝', '鷺', '殿', '朝', '宇', '稟', '炎', '伏', '凋', '因', '諸', '內', '窮', '下', '秩', '聖', '楚', '妙', '衣', '春', '闕', '宣', '官', '吾', '齊', '郁郁', '赫赫', '留', '亹亹', '洛', '熾', '不', '菊', '邕', '饒', '垠', '動', '固', '齋', '文', '暑', '居', '餘', '時', '王', '行', '東', '殊', '宴', '可', '鏘鏘', '辰', '求', '旌', '我', '遠', '咸', '藩', '城', '昭昭', '盤', '川', '丘', '流', '靜', '撫', '業', '美', '轅', '琳', '草', '降', '嚴', '士', '霜', '木', '未', '化', '蓮', '直', '侶', '永', '示', '陰陰', '徒', '康', '望', '詩', '虛', '去', '加', '賓', '摶', '唯', '穆穆', '貴', '衆', '志', '上', '北', '縱', '至', '稷', '裸', '照', '丹', '能', '庭', '平', '備', '鵷', '鐘', '襟', '刀', '左', '公', '彤', '百', '正', '隱隱', '洽', '禍', '回', '光', '陸', '碧', '後', '才', '□', '言', '泰', '道', '睠', '臨', '玉', '歸', '幽', '垂', '馬', '母', '彩', '久', '新', '景', '所', '鑪', '二', '郎', '承', '廟', '禁', '是', '應', '被', '實', '湘', '周', '爐', '信', '禮', '烈', '少', '笙', '佳', '林', '報', '燭', '既', '陳', '搖', '外', '昌', '海', '史', '唐', '情', '門', '宗', '履', '房', '篇', '難', '戈', '明明', '通', '壤', '簪', '凌', '在', '泉', '者', '，', '著', '但', '滿', '鉤', '池', '德', '颸', '綠', '松', '爲', '晶', '止', '磬', '台', '華', '睿', '疆', '乾', '深', '風', '炎炎', '善', '冰', '精', '火', '三', '獨', '理', '露', '微', '彥', '闈', '此', '馥馥', '威', '天', '豐', '峨峨', '中', '騎', '澤', '穰穰', '帝', '聞', '世', '步', '納', '煙', '思', '裏', '元', '印', '懿', '人', '蒼蒼', '由', '劒', '滅', '須', '閶', '肅肅', '堯', '柔', '鳥', '服', '盛', '隈', '翼翼', '秀', '恩', '弈', '茲', '規', '輝輝', '塵', '奠', '與', '凶', '高', '臣', '佩', '顛', '葉', '榮', '府', '右', '耀', '相', '楊', '吉', '披', '成', '千', '毛', '屢', '年', '橫', '魂', '對', '圃', '霏霏', '芝', '宮', '冬', '寒', '猶', '祀', '容', '星', '波', '霄', '影', '彬', '君', '七', '皇皇', '開', '心', '有', '月', '和', '位', '意', '漸', '殘', '紛紛', '巍巍', '積', '真', '來', '蕭', '全', '即', '奕', '看', '曉', '歡', '紅', '引', '絕', '浮', '雜', '愔愔', '珮', '目', '干', '團', '洋洋', '涿', '介', '趨', '土', '紫', '廣', '喧喧', '輕', '青', '樂', '前', '蘭', '燈', '持', '祖', '失', '軒', '日', '親', '六', '耳', '飛', '樹', '經', '舞', '往', '雁', '更', '皇', '苦', '覺', '雙', '方', '出', '蔥', '翹', '車', '旗', '沈', '筵', '音', '凝', '會', '叶', '南', '溫', '羽', '井', '刻', '雨', '物', '主', '五', '蕩蕩', '再', '具', '素'}\n",
      "['粲粲', '奕奕', '人', '天', '聖', '生', '清', '門', '雲', '明', '煌煌', '皇皇', '靈', '穆穆', '神', '祖', '來', '天', '子', '雲', '赫赫', '德', '生', '兮', '無', '肅肅', '人', '有', '上', '清', '明', '光', '聖', '赫赫', '聖', '雲', '上', '祖', '皇皇', '德', '生', '靈', '肅肅', '清', '廟', '雍雍', '明', '煌煌', '日', '光', '何', '風', '炎炎', '天', '子', '之', '無', '神', '人', '兮', '煌煌', '之', '肅肅', '雍雍', '神', '來', '赫赫', '清', '廟', '奕奕', '有', '濟濟', '靈', '德', '穆穆', '聖', '明', '天', '門', '濟濟', '洋洋', '煌煌', '廟', '奕奕', '天', '兮', '無', '門', '人', '靈', '何', '日', '上', '風', '有', '來', '之', '神', '門', '肅肅', '清', '靈', '煌煌', '明', '雍雍', '神', '來', '廟', '赫赫', '祖', '德', '風', '雲', '兮', '濟濟', '生', '無', '人', '天', '何', '有', '皇皇', '日', '子', '上', '昭昭', '上', '穆穆', '皇皇', '靈', '神', '穰穰', '天', '雲', '子', '德', '聖', '光', '風', '雍雍', '奕奕', '明', '兮', '煌煌', '清', '何', '來', '人', '之', '生', '炎炎', '赫赫', '風', '日', '有', '光', '人', '無', '天', '德', '何', '雲', '昭昭', '奕奕', '廟', '明', '德', '天', '清', '雍雍', '穆穆', '神', '穰穰', '洋洋', '雲', '光', '門', '上', '煌煌', '來', '子', '粲粲', '人', '何', '生', '兮', '煌煌', '有', '風', '日', '昭昭', '上', '穆穆', '奕奕', '靈', '有', '天', '人', '雲', '門', '子', '聖', '來', '日', '風', '光', '生', '之', '無', '何', '德', '肅肅', '靈', '煌煌', '何', '明', '清', '來', '洋洋', '德', '赫赫', '有', '人', '兮', '門', '祖', '光', '奕奕', '穆穆', '之', '上', '日', '生', '天', '子', '無', '粲粲', '神', '濟濟', '洋洋', '明', '有', '來', '雍雍', '肅肅', '門', '人', '子', '光', '聖', '日', '天', '上', '何', '穰穰', '兮', '穰穰', '之', '無', '德', '明', '靈', '穆穆', '來', '祖', '廟', '奕奕', '何', '天', '門', '風', '濟濟', '兮', '神', '風', '清', '上', '何', '人', '生', '煌煌']\n",
      "['子', '之', '濟濟', '洋洋', '穆穆', '天', '粲粲', '生', '兮', '上', '靈', '廟', '穰穰', '昭昭', '皇皇', '雍雍', '聖', '有', '祖', '德', '日', '明', '煌煌', '清', '光', '赫赫', '人', '風', '炎炎', '神', '來', '奕奕', '無', '雲', '門', '肅肅', '何']\n",
      "{'source': '亹亹', 'target': '何', 'value': 1}\n"
     ]
    }
   ],
   "source": [
    "wordli = ['粲粲', '皇皇' ,'赫赫', '翼翼', '雍雍' ,'洋洋' ,'肅肅' ,'穆穆', '炎炎', '奕奕' ,'馥馥' ,'昭昭' ,'煌煌','濟濟','穰穰','亹亹']\n",
    "sanjilist(wordli)"
   ],
   "metadata": {
    "collapsed": false,
    "ExecuteTime": {
     "end_time": "2023-10-08T08:33:15.891578100Z",
     "start_time": "2023-10-08T08:33:15.863925200Z"
    }
   }
  },
  {
   "cell_type": "markdown",
   "source": [
    "# 下面是草稿20231008"
   ],
   "metadata": {
    "collapsed": false
   }
  },
  {
   "cell_type": "code",
   "execution_count": 4,
   "outputs": [],
   "source": [
    "# 找到两个词语的共现词,用桑基图展示\n",
    "import numpy as np\n",
    "from pyecharts import options as opts\n",
    "from pyecharts.charts import Sankey\n",
    "def sanji(word1,word2):\n",
    "    counts1 = cy_counter[word1]\n",
    "    counts2 = cy_counter[word2]\n",
    "    countsum1 = sum(counts1.values())\n",
    "    countsum2 = sum(counts2.values())\n",
    "    intersection = list(set(counts1.keys()) & set(counts2.keys()))\n",
    "    # print(intersection)\n",
    "    \n",
    "    mid = []\n",
    "    for i in intersection:\n",
    "        # print(i,counts1[i],counts2[i])\n",
    "        if counts1[i] + counts2[i] < 3:\n",
    "            continue\n",
    "        mid.append(i)\n",
    "    intersection = [x for x in mid if x not in ['，','。','！','？']]\n",
    "    intersection_rate = [counts1[x]/countsum1 + counts2[x]/countsum2 for x in intersection ]\n",
    "    \n",
    "    # print(intersection)\n",
    "    # print([counts1[x] for x in intersection])\n",
    "    # print([counts2[x] for x in intersection])\n",
    "    \n",
    "    # 按照频次排序\n",
    "    values = np.array(intersection_rate)\n",
    "    labels = np.array(intersection)\n",
    "    \n",
    "    # 获取排序后的索引\n",
    "    sorted_indices = np.argsort(values)[::-1]\n",
    "    \n",
    "    # 使用排序后的索引对标签进行排序\n",
    "    sorted_labels = labels[sorted_indices]\n",
    "    \n",
    "    print(sorted_labels)  # 输出排序后的标签\n",
    "    \n",
    "    # 把待考察的两个词放到标签里面\n",
    "    sorted_labels = list(sorted_labels)\n",
    "    if word1 not in sorted_labels:\n",
    "        sorted_labels.append(word1)\n",
    "    if word2 not in sorted_labels:\n",
    "        sorted_labels.append(word2)\n",
    "    # print(sorted_labels)\n",
    "    \n",
    "    # 生成节点和边\n",
    "    nodes = []\n",
    "    for label in sorted_labels:\n",
    "        if label == word1 or label == word2:\n",
    "            nodes.append({'name':label,\"symbolSize\": 100})\n",
    "        else:\n",
    "            nodes.append({'name':label})\n",
    "    \n",
    "    links = []\n",
    "    for label in sorted_labels:\n",
    "        if label == word1:\n",
    "            continue\n",
    "        countnum1 = counts1[label]\n",
    "        # value1 = intersection_conut1_rate[intersection.index(label)]\n",
    "        value1 = counts1[label]\n",
    "        links.append({'source':word1,'target':label,'value':value1})\n",
    "    for label in sorted_labels:\n",
    "        if label == word2 or label == word1:\n",
    "            continue\n",
    "        countnum2 = counts2[label]\n",
    "        # value2 = intersection_conut2_rate[intersection.index(label)]\n",
    "        value2 = counts2[label]\n",
    "    \n",
    "        links.append({'source':label,'target':word2,'value':value2})   \n",
    "            \n",
    "    # print(links[-1])\n",
    "\n",
    "    \n",
    "    # 生成桑基图\n",
    "    sankey = (\n",
    "        Sankey()\n",
    "        .add(\n",
    "            \"\",\n",
    "            nodes,\n",
    "            links,\n",
    "            orient =\"vertical\",\n",
    "            node_gap = 5,\n",
    "            linestyle_opt=opts.LineStyleOpts(opacity=0.2, curve=0.5, color=\"source\",type_=\"dotted\"),\n",
    "            label_opts=opts.LabelOpts(position=\"top\",),\n",
    "        )\n",
    "        .set_global_opts(title_opts=opts.TitleOpts(title=f\"{word1}-{word2}共同共现词\"))\n",
    "    )\n",
    "\n",
    "    # 保存图表为 HTML 文件\n",
    "    sankey.render(f\"output/{word1}{word2}共现词.html\")    "
   ],
   "metadata": {
    "collapsed": false,
    "ExecuteTime": {
     "end_time": "2023-10-08T06:20:39.091449400Z",
     "start_time": "2023-10-08T06:20:38.585237900Z"
    }
   }
  },
  {
   "cell_type": "code",
   "execution_count": 5,
   "outputs": [
    {
     "name": "stdout",
     "output_type": "stream",
     "text": [
      "['煌煌' '粲粲' '人' '明' '花' '道' '華' '星' '春' '都' '如' '天' '貴' '朱' '車' '鮮' '樹' '三'\n",
      " '四' '門' '一' '姿' '清' '在' '宮' '列' '玉' '青' '耀' '中' '生' '發' '微' '美']\n"
     ]
    }
   ],
   "source": [
    "sanji('粲粲','煌煌')"
   ],
   "metadata": {
    "collapsed": false,
    "ExecuteTime": {
     "end_time": "2023-10-08T06:20:41.070270600Z",
     "start_time": "2023-10-08T06:20:41.003505800Z"
    }
   }
  },
  {
   "cell_type": "code",
   "execution_count": 20,
   "outputs": [
    {
     "name": "stdout",
     "output_type": "stream",
     "text": [
      "{'恢', '資', '黃', '尚', '大', '竟', '蠅', '泠泠', '十', '已', '石', '慶', '友', '西', '臺', '疎', '山', '猷', '起', '懸', '仙', '入', '霧', '雍雍', '傍', '歌', '悠悠', '埃', '姿', '客', '明', '秋', '氣', '異', '無', '夏', '何', '河', '惟', '小', '賢', '之', '濟濟', '武', '鬯', '領', '金', '京', '皆', '靈', '森森', '守', '手', '鸞', '赤', '莫', '書', '煌煌', '登', '典', '受', '聲', '粹', '豈', '發', '濤', '鮮', '地', '雲', '祠', '宿', '命', '。', '戒', '啓', '列', '鏡', '造', '晨', '竹', '福', '忽', '萸', '則', '節', '香', '舊', '鏞', '清', '初', '扇', '彼', '鹿', '踰', '九', '后', '洪', '朱', '旅', '亦', '功', '奏', '一', '源', '子', '英', '冠', '陽', '其', '燎', '粲粲', '共', '芳', '重', '桂', '玄', '網', '麟', '長', '然', '酒', '甚', '俱', '闔', '空', '濃', '穹', '如', '夜', '于', '見', '陰', '英英', '得', '故', '享', '代', '賦', '奕奕', '徂', '章', '舉', '轉', '；', '師', '生', '先', '復', '兮', '龍', '將', '蒼', '多', '詞', '送', '坤', '欲', '都', '潔', '萬', '馨', '若', '就', '廷', '晚', '仰', '離', '輝', '璽', '今', '苑', '雪', '營', '名', '誰', '振', '闢', '白', '儀', '聽', '盡', '揚', '以', '滔滔', '閑', '義', '遙', '舒', '色', '花', '邃', '定', '國', '處', '自', '堂', '側', '執', '駸駸', '羣', '燃', '宸', '太', '戎', '神', '熒熒', '事', '饗', '鳳', '四', '藝', '沙', '水', '孝', '殿', '朝', '宇', '稟', '炎', '伏', '凋', '因', '內', '諸', '下', '窮', '秩', '聖', '楚', '妙', '衣', '春', '宣', '官', '齊', '郁郁', '赫赫', '洛', '熾', '菊', '不', '邕', '垠', '動', '固', '齋', '文', '暑', '居', '餘', '時', '王', '行', '東', '殊', '辰', '旌', '鏘鏘', '我', '遠', '咸', '藩', '城', '昭昭', '丘', '流', '靜', '撫', '業', '美', '轅', '琳', '草', '嚴', '降', '士', '霜', '木', '未', '化', '蓮', '直', '永', '示', '陰陰', '徒', '康', '望', '虛', '去', '加', '賓', '摶', '唯', '穆穆', '貴', '志', '上', '北', '縱', '至', '裸', '照', '丹', '能', '庭', '平', '備', '襟', '鐘', '刀', '左', '公', '彤', '正', '隱隱', '洽', '禍', '回', '光', '陸', '碧', '後', '才', '□', '泰', '道', '睠', '臨', '玉', '歸', '幽', '垂', '馬', '母', '彩', '久', '景', '新', '所', '鑪', '二', '郎', '承', '禁', '廟', '是', '應', '被', '實', '湘', '周', '爐', '禮', '烈', '少', '笙', '佳', '林', '報', '燭', '既', '搖', '外', '昌', '海', '史', '唐', '情', '門', '宗', '履', '房', '篇', '難', '戈', '明明', '通', '壤', '凌', '在', '者', '，', '著', '但', '滿', '德', '綠', '松', '晶', '爲', '止', '華', '睿', '乾', '深', '風', '炎炎', '冰', '火', '三', '獨', '理', '露', '微', '闈', '此', '馥馥', '威', '天', '峨峨', '中', '騎', '澤', '帝', '穰穰', '聞', '世', '步', '納', '思', '裏', '元', '印', '懿', '人', '蒼蒼', '由', '滅', '須', '閶', '肅肅', '堯', '服', '盛', '隈', '翼翼', '秀', '恩', '茲', '規', '輝輝', '塵', '奠', '與', '高', '佩', '臣', '顛', '葉', '榮', '府', '右', '耀', '相', '吉', '披', '成', '千', '毛', '年', '橫', '魂', '圃', '霏霏', '芝', '宮', '冬', '寒', '猶', '祀', '容', '星', '波', '影', '君', '七', '皇皇', '開', '心', '有', '月', '和', '意', '殘', '紛紛', '巍巍', '積', '來', '蕭', '全', '即', '奕', '看', '曉', '紅', '引', '絕', '浮', '愔愔', '珮', '團', '干', '洋洋', '涿', '趨', '土', '紫', '廣', '輕', '青', '樂', '前', '蘭', '燈', '持', '祖', '失', '軒', '日', '親', '六', '耳', '飛', '樹', '經', '往', '雁', '更', '皇', '苦', '覺', '方', '出', '蔥', '翹', '車', '旗', '沈', '音', '凝', '會', '叶', '南', '溫', '羽', '井', '刻', '物', '主', '五', '蕩蕩', '再', '具', '素'}\n",
      "['粲粲', '奕奕', '人', '天', '中', '聖', '生', '清', '門', '開', '雲', '明', '煌煌', '列', '玉', '皇皇', '靈', '穆穆', '神', '祖', '來', '天', '子', '雲', '赫赫', '德', '生', '兮', '無', '肅肅', '人', '有', '上', '清', '明', '光', '聖', '方', '赫赫', '聖', '開', '玉', '雲', '上', '祖', '皇皇', '德', '生', '靈', '肅肅', '清', '廟', '雍雍', '明', '煌煌', '日', '光', '風', '炎炎', '金', '天', '子', '之', '無', '中', '神', '人', '方', '兮', '煌煌', '開', '之', '肅肅', '雍雍', '神', '來', '赫赫', '清', '廟', '奕奕', '有', '靈', '德', '穆穆', '聖', '明', '天', '門', '洋洋', '煌煌', '廟', '奕奕', '金', '天', '兮', '無', '門', '玉', '人', '靈', '日', '上', '風', '有', '來', '開', '之', '神', '門', '肅肅', '清', '玉', '靈', '煌煌', '明', '雍雍', '神', '來', '廟', '赫赫', '祖', '方', '德', '風', '雲', '金', '列', '兮', '生', '無', '人', '開', '天', '中', '有', '皇皇', '日', '子', '上', '昭昭', '上', '穆穆', '皇皇', '靈', '神', '天', '雲', '子', '德', '聖', '光', '風', '雍雍', '奕奕', '明', '兮', '方', '煌煌', '列', '清', '中', '來', '金', '玉', '人', '之', '生', '炎炎', '玉', '方', '開', '赫赫', '風', '日', '有', '光', '人', '無', '天', '中', '德', '雲', '昭昭', '奕奕', '方', '廟', '明', '德', '天', '清', '雍雍', '開', '穆穆', '神', '金', '洋洋', '雲', '光', '門', '上', '煌煌', '來', '子', '粲粲', '人', '中', '生', '兮', '玉', '煌煌', '有', '風', '日', '昭昭', '上', '穆穆', '奕奕', '方', '靈', '有', '天', '開', '人', '雲', '門', '子', '聖', '來', '日', '風', '光', '生', '之', '無', '金', '列', '德', '玉', '肅肅', '靈', '煌煌', '明', '清', '來', '洋洋', '德', '赫赫', '有', '人', '兮', '門', '祖', '光', '奕奕', '開', '方', '穆穆', '列', '之', '中', '上', '日', '生', '金', '天', '子', '無', '粲粲', '神']\n",
      "['玉', '子', '之', '列', '洋洋', '穆穆', '天', '方', '生', '粲粲', '金', '兮', '上', '中', '靈', '廟', '昭昭', '皇皇', '開', '雍雍', '聖', '有', '祖', '德', '日', '明', '煌煌', '清', '光', '赫赫', '人', '風', '炎炎', '神', '來', '奕奕', '無', '雲', '門', '肅肅']\n",
      "{'source': '煌煌', 'target': '門', 'value': 4}\n"
     ]
    },
    {
     "data": {
      "text/plain": "'D:\\\\github repo\\\\quan_tang_shi_analysis2\\\\output\\\\粲粲 皇皇 赫赫 翼翼 雍雍 洋洋 肅肅 穆穆 炎炎 奕奕 馥馥 昭昭 煌煌共现词.html'"
     },
     "execution_count": 20,
     "metadata": {},
     "output_type": "execute_result"
    }
   ],
   "source": [
    "# 加入是要论证一个列表？\n",
    "\n",
    "wordli = ['粲粲', '皇皇' ,'赫赫', '翼翼', '雍雍' ,'洋洋' ,'肅肅' ,'穆穆', '炎炎', '奕奕' ,'馥馥' ,'昭昭' ,'煌煌','濟濟','穰穰','亹亹']\n",
    "countsli = [cy_counter[x] for x in wordli]\n",
    "countsumli = [sum(countsli[wordli.index(x)].values()) for x in wordli]\n",
    "\n",
    "# 找每两个词的共同共现词组合成一个交集\n",
    "intersation = set()\n",
    "for i in wordli:\n",
    "    for j in wordli:\n",
    "        if i == j:\n",
    "            continue\n",
    "        keys1 = countsli[wordli.index(i)].keys()\n",
    "        keys2 = countsli[wordli.index(j)].keys()\n",
    "        aintersation = set(keys1) & set(keys2)\n",
    "        intersation = aintersation | intersation \n",
    "print(intersation)\n",
    "\n",
    "# 找个词在所有词出现的总次数，如果低于某个阈值就不出现，形成一个交集\n",
    "intersation_gap = len(wordli)\n",
    "intersation2 = []\n",
    "bingji = []\n",
    "for i in wordli:\n",
    "    gongxianwords = countsli[wordli.index(i)].keys()\n",
    "    bingji += gongxianwords\n",
    "# print(bingji)\n",
    "bingjicount = [0] * len(bingji)\n",
    "for i in wordli:\n",
    "    for ind,j in enumerate(bingji):\n",
    "        bingjicount[ind] += countsli[wordli.index(i)][j]\n",
    "# print(bingjicount)\n",
    "for i in range(len(bingji)):\n",
    "    gongxianword = bingji[i]\n",
    "    if gongxianword in  ['，','。','！','？']:\n",
    "        continue\n",
    "    if bingjicount[i] <= intersation_gap:\n",
    "        continue\n",
    "    intersation2.append(gongxianword)\n",
    "print(intersation2)\n",
    "\n",
    "# 找同时满足两个条件的共现词\n",
    "intersation = list(intersation & set(intersation2))\n",
    "print(intersation)\n",
    "\n",
    "for i in wordli:\n",
    "    if i not in intersation:\n",
    "        intersation.append(i)\n",
    "    \n",
    "# 生成节点和边\n",
    "nodes = []\n",
    "for label in intersation:\n",
    "    nodes.append({'name':label})   \n",
    "\n",
    "links = []\n",
    "for ind,word in enumerate(wordli):\n",
    "    for gongxianword in intersation:\n",
    "        if gongxianword in wordli:\n",
    "            if wordli.index(gongxianword) <= ind:\n",
    "                continue\n",
    "        conuts = countsli[wordli.index(word)]\n",
    "        value = conuts[gongxianword]\n",
    "        if value != 0:\n",
    "            links.append({'source':word,'target':gongxianword,'value':value})\n",
    "        \n",
    "print(links[-1])\n",
    "\n",
    "# 生成桑基图\n",
    "sankey = (\n",
    "    Sankey()\n",
    "    .add(\n",
    "        \"\",\n",
    "        nodes,\n",
    "        links,\n",
    "        orient =\"vertical\",\n",
    "        node_gap = 5,\n",
    "        linestyle_opt=opts.LineStyleOpts(opacity=0.2, curve=0.5, color=\"source\",type_=\"dotted\"),\n",
    "        label_opts=opts.LabelOpts(position=\"top\",),\n",
    "    )\n",
    "    .set_global_opts(title_opts=opts.TitleOpts(title=f\"{' '.join(wordli)}共同共现词\"))\n",
    ")\n",
    "\n",
    "# 保存图表为 HTML 文件\n",
    "sankey.render(f\"output/{' '.join(wordli)}共现词.html\")  "
   ],
   "metadata": {
    "collapsed": false,
    "ExecuteTime": {
     "end_time": "2023-10-08T08:21:17.364565300Z",
     "start_time": "2023-10-08T08:21:17.336343200Z"
    }
   }
  },
  {
   "cell_type": "code",
   "execution_count": null,
   "outputs": [],
   "source": [
    "# 把待考察的两个词放到标签里面\n",
    "sorted_labels = list(sorted_labels)\n",
    "if word1 not in sorted_labels:\n",
    "    sorted_labels.append(word1)\n",
    "if word2 not in sorted_labels:\n",
    "    sorted_labels.append(word2)\n",
    "# print(sorted_labels)\n",
    "\n",
    "# 生成节点和边\n",
    "nodes = []\n",
    "for label in sorted_labels:\n",
    "    if label == word1 or label == word2:\n",
    "        nodes.append({'name':label,\"symbolSize\": 100})\n",
    "    else:\n",
    "        nodes.append({'name':label})\n",
    "\n",
    "links = []\n",
    "for label in sorted_labels:\n",
    "    if label == word1:\n",
    "        continue\n",
    "    countnum1 = counts1[label]\n",
    "    # value1 = intersection_conut1_rate[intersection.index(label)]\n",
    "    value1 = counts1[label]\n",
    "    links.append({'source':word1,'target':label,'value':value1})\n",
    "for label in sorted_labels:\n",
    "    if label == word2 or label == word1:\n",
    "        continue\n",
    "    countnum2 = counts2[label]\n",
    "    # value2 = intersection_conut2_rate[intersection.index(label)]\n",
    "    value2 = counts2[label]\n",
    "\n",
    "    links.append({'source':label,'target':word2,'value':value2})   \n",
    "        \n",
    "# print(links[-1])\n",
    "\n",
    "\n",
    "# 生成桑基图\n",
    "sankey = (\n",
    "    Sankey()\n",
    "    .add(\n",
    "        \"\",\n",
    "        nodes,\n",
    "        links,\n",
    "        orient =\"vertical\",\n",
    "        node_gap = 5,\n",
    "        linestyle_opt=opts.LineStyleOpts(opacity=0.2, curve=0.5, color=\"source\",type_=\"dotted\"),\n",
    "        label_opts=opts.LabelOpts(position=\"top\",),\n",
    "    )\n",
    "    .set_global_opts(title_opts=opts.TitleOpts(title=f\"{word1}-{word2}共同共现词\"))\n",
    ")\n",
    "\n",
    "# 保存图表为 HTML 文件\n",
    "sankey.render(f\"output/{word1}{word2}共现词.html\")  "
   ],
   "metadata": {
    "collapsed": false
   }
  },
  {
   "cell_type": "markdown",
   "source": [
    "# 下面是草稿"
   ],
   "metadata": {
    "collapsed": false
   }
  },
  {
   "cell_type": "code",
   "execution_count": 15,
   "outputs": [
    {
     "name": "stdout",
     "output_type": "stream",
     "text": [
      "['之', '德', '化', '容', '皇', '玄', '國', '天', '心', '明', '雲', '齊', '風', '惟', '彼', '后', '朝', '光', '何', '臨', '羣', '王', '上', '人', '功', '下', '宗', '洪', '生', '皇皇', '子', '盛', '清', '儀', '靈', '明明', '爲', '雍雍', '中', '睿', '乾', '聖', '月', '神', '巍巍']\n",
      "[4, 3, 2, 1, 2, 3, 2, 4, 1, 5, 3, 1, 2, 1, 1, 1, 2, 6, 3, 2, 2, 3, 3, 4, 2, 1, 1, 2, 2, 1, 3, 1, 1, 1, 1, 2, 2, 1, 4, 1, 3, 6, 5, 1, 3]\n",
      "[5, 4, 2, 3, 6, 2, 1, 9, 2, 3, 3, 2, 3, 2, 2, 2, 3, 1, 1, 2, 2, 1, 4, 1, 2, 2, 2, 1, 1, 3, 5, 2, 2, 2, 2, 3, 1, 2, 1, 2, 4, 7, 1, 5, 1]\n"
     ]
    }
   ],
   "source": [
    "word1 = '赫赫'\n",
    "word2 = '穆穆'\n",
    "counts1 = cy_counter[word1]\n",
    "counts2 = cy_counter[word2]\n",
    "countsum1 = sum(counts1.values())\n",
    "countsum2 = sum(counts2.values())\n",
    "intersection = list(set(counts1.keys()) & set(counts2.keys()))\n",
    "# print(intersection)\n",
    "\n",
    "mid = []\n",
    "for i in intersection:\n",
    "    # print(i,counts1[i],counts2[i])\n",
    "    if counts1[i] + counts2[i] < 3:\n",
    "        continue\n",
    "    mid.append(i)\n",
    "intersection = [x for x in mid if x not in ['，','。','！','？']]\n",
    "\n",
    "intersection_rate = [counts1[x]/countsum1 + counts2[x]/countsum2 for x in intersection ]\n",
    "\n",
    "print(intersection)\n",
    "print([counts1[x] for x in intersection])\n",
    "print([counts2[x] for x in intersection])\n",
    "\n",
    "# print(intersection_rate)\n"
   ],
   "metadata": {
    "collapsed": false,
    "ExecuteTime": {
     "end_time": "2023-10-07T13:13:48.617161900Z",
     "start_time": "2023-10-07T13:13:48.609880100Z"
    }
   }
  },
  {
   "cell_type": "code",
   "execution_count": 21,
   "outputs": [
    {
     "name": "stdout",
     "output_type": "stream",
     "text": [
      "['天' '聖' '之' '皇' '子' '明' '德' '上' '乾' '神' '雲' '光' '明明' '風' '朝' '月' '玄' '容'\n",
      " '皇皇' '中' '人' '羣' '臨' '功' '化' '何' '巍巍' '王' '下' '靈' '儀' '清' '盛' '雍雍' '睿'\n",
      " '心' '齊' '宗' '惟' '彼' '后' '生' '洪' '國' '爲']\n",
      "['天', '聖', '之', '皇', '子', '明', '德', '上', '乾', '神', '雲', '光', '明明', '風', '朝', '月', '玄', '容', '皇皇', '中', '人', '羣', '臨', '功', '化', '何', '巍巍', '王', '下', '靈', '儀', '清', '盛', '雍雍', '睿', '心', '齊', '宗', '惟', '彼', '后', '生', '洪', '國', '爲', '赫赫', '穆穆']\n"
     ]
    }
   ],
   "source": [
    "import numpy as np\n",
    "\n",
    "# 假设你有一个值的NumPy数组和一个标签的NumPy数组\n",
    "values = np.array(intersection_rate)\n",
    "labels = np.array(intersection)\n",
    "\n",
    "# 获取排序后的索引\n",
    "sorted_indices = np.argsort(values)[::-1]\n",
    "\n",
    "# 使用排序后的索引对标签进行排序\n",
    "sorted_labels = labels[sorted_indices]\n",
    "\n",
    "print(sorted_labels)  # 输出排序后的标签\n",
    "\n",
    "sorted_labels = list(sorted_labels)\n",
    "if word1 not in sorted_labels:\n",
    "    sorted_labels.append(word1)\n",
    "if word2 not in sorted_labels:\n",
    "    sorted_labels.append(word2)\n",
    "print(sorted_labels)"
   ],
   "metadata": {
    "collapsed": false,
    "ExecuteTime": {
     "end_time": "2023-10-07T13:15:21.881296500Z",
     "start_time": "2023-10-07T13:15:21.871529900Z"
    }
   }
  },
  {
   "cell_type": "code",
   "execution_count": 18,
   "outputs": [
    {
     "name": "stdout",
     "output_type": "stream",
     "text": [
      "{'source': '赫赫', 'target': '穆穆', 'value': 0}\n"
     ]
    }
   ],
   "source": [
    "nodes = []\n",
    "for label in sorted_labels:\n",
    "    if label == word1 or label == word2:\n",
    "        nodes.append({'name':label,\"symbolSize\": 100})\n",
    "    else:\n",
    "        nodes.append({'name':label})\n",
    "\n",
    "links = []\n",
    "for label in sorted_labels:\n",
    "    if label == word1:\n",
    "        continue\n",
    "    countnum1 = counts1[label]\n",
    "    # value1 = intersection_conut1_rate[intersection.index(label)]\n",
    "    value1 = counts1[label]\n",
    "    links.append({'source':word1,'target':label,'value':value1})\n",
    "for label in sorted_labels:\n",
    "    if label == word2:\n",
    "        continue\n",
    "    countnum2 = counts2[label]\n",
    "    # value2 = intersection_conut2_rate[intersection.index(label)]\n",
    "    value2 = counts2[label]\n",
    "\n",
    "    links.append({'source':label,'target':word2,'value':value2})   \n",
    "        \n",
    "print(links[-1])"
   ],
   "metadata": {
    "collapsed": false,
    "ExecuteTime": {
     "end_time": "2023-10-07T13:15:07.314739800Z",
     "start_time": "2023-10-07T13:15:07.309220800Z"
    }
   }
  },
  {
   "cell_type": "code",
   "execution_count": 19,
   "outputs": [
    {
     "data": {
      "text/plain": "'D:\\\\github repo\\\\quan_tang_shi_analysis2\\\\sankey_diagram.html'"
     },
     "execution_count": 19,
     "metadata": {},
     "output_type": "execute_result"
    }
   ],
   "source": [
    "from pyecharts import options as opts\n",
    "from pyecharts.charts import Sankey\n",
    "# \n",
    "# # 准备节点数据\n",
    "# nodes = [{\"name\": \"A\"}, {\"name\": \"B\"}, {\"name\": \"C\"}]\n",
    "# \n",
    "# # 准备流数据\n",
    "# links = [\n",
    "#     {\"source\": \"A\", \"target\": \"B\", \"value\": 10},\n",
    "#     {\"source\": \"B\", \"target\": \"C\", \"value\": 5},\n",
    "# ]\n",
    "\n",
    "# 创建 Sankey 图表\n",
    "sankey = (\n",
    "    Sankey()\n",
    "    .add(\n",
    "        \"\",\n",
    "        nodes,\n",
    "        links,\n",
    "        orient =\"vertical\",\n",
    "        node_gap = 5,\n",
    "        linestyle_opt=opts.LineStyleOpts(opacity=0.2, curve=0.5, color=\"source\",type_=\"dotted\"),\n",
    "        label_opts=opts.LabelOpts(position=\"top\",),\n",
    "    )\n",
    "    .set_global_opts(\n",
    "        title_opts=opts.TitleOpts(title=\"Sankey Diagram\"),\n",
    "    )\n",
    ")\n",
    "\n",
    "# 保存图表为 HTML 文件\n",
    "sankey.render(\"sankey_diagram.html\")\n"
   ],
   "metadata": {
    "collapsed": false,
    "ExecuteTime": {
     "end_time": "2023-10-07T13:15:07.788445700Z",
     "start_time": "2023-10-07T13:15:07.775287600Z"
    }
   }
  },
  {
   "cell_type": "code",
   "execution_count": 23,
   "outputs": [
    {
     "data": {
      "application/vnd.plotly.v1+json": {
       "data": [
        {
         "link": {
          "source": [
           45,
           45,
           45,
           45,
           45,
           45,
           45,
           45,
           45,
           45,
           45,
           45,
           45,
           45,
           45,
           45,
           45,
           45,
           45,
           45,
           45,
           45,
           45,
           45,
           45,
           45,
           45,
           45,
           45,
           45,
           45,
           45,
           45,
           45,
           45,
           45,
           45,
           45,
           45,
           45,
           45,
           45,
           45,
           45,
           45,
           45,
           0,
           1,
           2,
           3,
           4,
           5,
           6,
           7,
           8,
           9,
           10,
           11,
           12,
           13,
           14,
           15,
           16,
           17,
           18,
           19,
           20,
           21,
           22,
           23,
           24,
           25,
           26,
           27,
           28,
           29,
           30,
           31,
           32,
           33,
           34,
           35,
           36,
           37,
           38,
           39,
           40,
           41,
           42,
           43,
           44,
           45
          ],
          "target": [
           0,
           1,
           2,
           3,
           4,
           5,
           6,
           7,
           8,
           9,
           10,
           11,
           12,
           13,
           14,
           15,
           16,
           17,
           18,
           19,
           20,
           21,
           22,
           23,
           24,
           25,
           26,
           27,
           28,
           29,
           30,
           31,
           32,
           33,
           34,
           35,
           36,
           37,
           38,
           39,
           40,
           41,
           42,
           43,
           44,
           46,
           46,
           46,
           46,
           46,
           46,
           46,
           46,
           46,
           46,
           46,
           46,
           46,
           46,
           46,
           46,
           46,
           46,
           46,
           46,
           46,
           46,
           46,
           46,
           46,
           46,
           46,
           46,
           46,
           46,
           46,
           46,
           46,
           46,
           46,
           46,
           46,
           46,
           46,
           46,
           46,
           46,
           46,
           46,
           46,
           46,
           46
          ],
          "value": [
           4,
           6,
           4,
           2,
           3,
           5,
           3,
           3,
           3,
           1,
           3,
           6,
           2,
           2,
           2,
           5,
           3,
           1,
           1,
           4,
           4,
           2,
           2,
           2,
           2,
           3,
           3,
           3,
           1,
           1,
           1,
           1,
           1,
           1,
           1,
           1,
           1,
           1,
           1,
           1,
           1,
           2,
           2,
           2,
           2,
           0,
           9,
           7,
           5,
           6,
           5,
           3,
           4,
           4,
           4,
           5,
           3,
           1,
           3,
           3,
           3,
           1,
           2,
           3,
           3,
           1,
           1,
           2,
           2,
           2,
           2,
           1,
           1,
           1,
           2,
           2,
           2,
           2,
           2,
           2,
           2,
           2,
           2,
           2,
           2,
           2,
           2,
           1,
           1,
           1,
           1,
           0
          ]
         },
         "node": {
          "label": [
           "天",
           "聖",
           "之",
           "皇",
           "子",
           "明",
           "德",
           "上",
           "乾",
           "神",
           "雲",
           "光",
           "明明",
           "風",
           "朝",
           "月",
           "玄",
           "容",
           "皇皇",
           "中",
           "人",
           "羣",
           "臨",
           "功",
           "化",
           "何",
           "巍巍",
           "王",
           "下",
           "靈",
           "儀",
           "清",
           "盛",
           "雍雍",
           "睿",
           "心",
           "齊",
           "宗",
           "惟",
           "彼",
           "后",
           "生",
           "洪",
           "國",
           "爲",
           "赫赫",
           "穆穆"
          ],
          "line": {
           "color": "black",
           "width": 0.5
          },
          "pad": 15,
          "thickness": 20
         },
         "type": "sankey"
        }
       ],
       "layout": {
        "font": {
         "size": 10
        },
        "title": {
         "text": "Sankey Diagram Example"
        },
        "template": {
         "data": {
          "histogram2dcontour": [
           {
            "type": "histogram2dcontour",
            "colorbar": {
             "outlinewidth": 0,
             "ticks": ""
            },
            "colorscale": [
             [
              0.0,
              "#0d0887"
             ],
             [
              0.1111111111111111,
              "#46039f"
             ],
             [
              0.2222222222222222,
              "#7201a8"
             ],
             [
              0.3333333333333333,
              "#9c179e"
             ],
             [
              0.4444444444444444,
              "#bd3786"
             ],
             [
              0.5555555555555556,
              "#d8576b"
             ],
             [
              0.6666666666666666,
              "#ed7953"
             ],
             [
              0.7777777777777778,
              "#fb9f3a"
             ],
             [
              0.8888888888888888,
              "#fdca26"
             ],
             [
              1.0,
              "#f0f921"
             ]
            ]
           }
          ],
          "choropleth": [
           {
            "type": "choropleth",
            "colorbar": {
             "outlinewidth": 0,
             "ticks": ""
            }
           }
          ],
          "histogram2d": [
           {
            "type": "histogram2d",
            "colorbar": {
             "outlinewidth": 0,
             "ticks": ""
            },
            "colorscale": [
             [
              0.0,
              "#0d0887"
             ],
             [
              0.1111111111111111,
              "#46039f"
             ],
             [
              0.2222222222222222,
              "#7201a8"
             ],
             [
              0.3333333333333333,
              "#9c179e"
             ],
             [
              0.4444444444444444,
              "#bd3786"
             ],
             [
              0.5555555555555556,
              "#d8576b"
             ],
             [
              0.6666666666666666,
              "#ed7953"
             ],
             [
              0.7777777777777778,
              "#fb9f3a"
             ],
             [
              0.8888888888888888,
              "#fdca26"
             ],
             [
              1.0,
              "#f0f921"
             ]
            ]
           }
          ],
          "heatmap": [
           {
            "type": "heatmap",
            "colorbar": {
             "outlinewidth": 0,
             "ticks": ""
            },
            "colorscale": [
             [
              0.0,
              "#0d0887"
             ],
             [
              0.1111111111111111,
              "#46039f"
             ],
             [
              0.2222222222222222,
              "#7201a8"
             ],
             [
              0.3333333333333333,
              "#9c179e"
             ],
             [
              0.4444444444444444,
              "#bd3786"
             ],
             [
              0.5555555555555556,
              "#d8576b"
             ],
             [
              0.6666666666666666,
              "#ed7953"
             ],
             [
              0.7777777777777778,
              "#fb9f3a"
             ],
             [
              0.8888888888888888,
              "#fdca26"
             ],
             [
              1.0,
              "#f0f921"
             ]
            ]
           }
          ],
          "heatmapgl": [
           {
            "type": "heatmapgl",
            "colorbar": {
             "outlinewidth": 0,
             "ticks": ""
            },
            "colorscale": [
             [
              0.0,
              "#0d0887"
             ],
             [
              0.1111111111111111,
              "#46039f"
             ],
             [
              0.2222222222222222,
              "#7201a8"
             ],
             [
              0.3333333333333333,
              "#9c179e"
             ],
             [
              0.4444444444444444,
              "#bd3786"
             ],
             [
              0.5555555555555556,
              "#d8576b"
             ],
             [
              0.6666666666666666,
              "#ed7953"
             ],
             [
              0.7777777777777778,
              "#fb9f3a"
             ],
             [
              0.8888888888888888,
              "#fdca26"
             ],
             [
              1.0,
              "#f0f921"
             ]
            ]
           }
          ],
          "contourcarpet": [
           {
            "type": "contourcarpet",
            "colorbar": {
             "outlinewidth": 0,
             "ticks": ""
            }
           }
          ],
          "contour": [
           {
            "type": "contour",
            "colorbar": {
             "outlinewidth": 0,
             "ticks": ""
            },
            "colorscale": [
             [
              0.0,
              "#0d0887"
             ],
             [
              0.1111111111111111,
              "#46039f"
             ],
             [
              0.2222222222222222,
              "#7201a8"
             ],
             [
              0.3333333333333333,
              "#9c179e"
             ],
             [
              0.4444444444444444,
              "#bd3786"
             ],
             [
              0.5555555555555556,
              "#d8576b"
             ],
             [
              0.6666666666666666,
              "#ed7953"
             ],
             [
              0.7777777777777778,
              "#fb9f3a"
             ],
             [
              0.8888888888888888,
              "#fdca26"
             ],
             [
              1.0,
              "#f0f921"
             ]
            ]
           }
          ],
          "surface": [
           {
            "type": "surface",
            "colorbar": {
             "outlinewidth": 0,
             "ticks": ""
            },
            "colorscale": [
             [
              0.0,
              "#0d0887"
             ],
             [
              0.1111111111111111,
              "#46039f"
             ],
             [
              0.2222222222222222,
              "#7201a8"
             ],
             [
              0.3333333333333333,
              "#9c179e"
             ],
             [
              0.4444444444444444,
              "#bd3786"
             ],
             [
              0.5555555555555556,
              "#d8576b"
             ],
             [
              0.6666666666666666,
              "#ed7953"
             ],
             [
              0.7777777777777778,
              "#fb9f3a"
             ],
             [
              0.8888888888888888,
              "#fdca26"
             ],
             [
              1.0,
              "#f0f921"
             ]
            ]
           }
          ],
          "mesh3d": [
           {
            "type": "mesh3d",
            "colorbar": {
             "outlinewidth": 0,
             "ticks": ""
            }
           }
          ],
          "scatter": [
           {
            "fillpattern": {
             "fillmode": "overlay",
             "size": 10,
             "solidity": 0.2
            },
            "type": "scatter"
           }
          ],
          "parcoords": [
           {
            "type": "parcoords",
            "line": {
             "colorbar": {
              "outlinewidth": 0,
              "ticks": ""
             }
            }
           }
          ],
          "scatterpolargl": [
           {
            "type": "scatterpolargl",
            "marker": {
             "colorbar": {
              "outlinewidth": 0,
              "ticks": ""
             }
            }
           }
          ],
          "bar": [
           {
            "error_x": {
             "color": "#2a3f5f"
            },
            "error_y": {
             "color": "#2a3f5f"
            },
            "marker": {
             "line": {
              "color": "#E5ECF6",
              "width": 0.5
             },
             "pattern": {
              "fillmode": "overlay",
              "size": 10,
              "solidity": 0.2
             }
            },
            "type": "bar"
           }
          ],
          "scattergeo": [
           {
            "type": "scattergeo",
            "marker": {
             "colorbar": {
              "outlinewidth": 0,
              "ticks": ""
             }
            }
           }
          ],
          "scatterpolar": [
           {
            "type": "scatterpolar",
            "marker": {
             "colorbar": {
              "outlinewidth": 0,
              "ticks": ""
             }
            }
           }
          ],
          "histogram": [
           {
            "marker": {
             "pattern": {
              "fillmode": "overlay",
              "size": 10,
              "solidity": 0.2
             }
            },
            "type": "histogram"
           }
          ],
          "scattergl": [
           {
            "type": "scattergl",
            "marker": {
             "colorbar": {
              "outlinewidth": 0,
              "ticks": ""
             }
            }
           }
          ],
          "scatter3d": [
           {
            "type": "scatter3d",
            "line": {
             "colorbar": {
              "outlinewidth": 0,
              "ticks": ""
             }
            },
            "marker": {
             "colorbar": {
              "outlinewidth": 0,
              "ticks": ""
             }
            }
           }
          ],
          "scattermapbox": [
           {
            "type": "scattermapbox",
            "marker": {
             "colorbar": {
              "outlinewidth": 0,
              "ticks": ""
             }
            }
           }
          ],
          "scatterternary": [
           {
            "type": "scatterternary",
            "marker": {
             "colorbar": {
              "outlinewidth": 0,
              "ticks": ""
             }
            }
           }
          ],
          "scattercarpet": [
           {
            "type": "scattercarpet",
            "marker": {
             "colorbar": {
              "outlinewidth": 0,
              "ticks": ""
             }
            }
           }
          ],
          "carpet": [
           {
            "aaxis": {
             "endlinecolor": "#2a3f5f",
             "gridcolor": "white",
             "linecolor": "white",
             "minorgridcolor": "white",
             "startlinecolor": "#2a3f5f"
            },
            "baxis": {
             "endlinecolor": "#2a3f5f",
             "gridcolor": "white",
             "linecolor": "white",
             "minorgridcolor": "white",
             "startlinecolor": "#2a3f5f"
            },
            "type": "carpet"
           }
          ],
          "table": [
           {
            "cells": {
             "fill": {
              "color": "#EBF0F8"
             },
             "line": {
              "color": "white"
             }
            },
            "header": {
             "fill": {
              "color": "#C8D4E3"
             },
             "line": {
              "color": "white"
             }
            },
            "type": "table"
           }
          ],
          "barpolar": [
           {
            "marker": {
             "line": {
              "color": "#E5ECF6",
              "width": 0.5
             },
             "pattern": {
              "fillmode": "overlay",
              "size": 10,
              "solidity": 0.2
             }
            },
            "type": "barpolar"
           }
          ],
          "pie": [
           {
            "automargin": true,
            "type": "pie"
           }
          ]
         },
         "layout": {
          "autotypenumbers": "strict",
          "colorway": [
           "#636efa",
           "#EF553B",
           "#00cc96",
           "#ab63fa",
           "#FFA15A",
           "#19d3f3",
           "#FF6692",
           "#B6E880",
           "#FF97FF",
           "#FECB52"
          ],
          "font": {
           "color": "#2a3f5f"
          },
          "hovermode": "closest",
          "hoverlabel": {
           "align": "left"
          },
          "paper_bgcolor": "white",
          "plot_bgcolor": "#E5ECF6",
          "polar": {
           "bgcolor": "#E5ECF6",
           "angularaxis": {
            "gridcolor": "white",
            "linecolor": "white",
            "ticks": ""
           },
           "radialaxis": {
            "gridcolor": "white",
            "linecolor": "white",
            "ticks": ""
           }
          },
          "ternary": {
           "bgcolor": "#E5ECF6",
           "aaxis": {
            "gridcolor": "white",
            "linecolor": "white",
            "ticks": ""
           },
           "baxis": {
            "gridcolor": "white",
            "linecolor": "white",
            "ticks": ""
           },
           "caxis": {
            "gridcolor": "white",
            "linecolor": "white",
            "ticks": ""
           }
          },
          "coloraxis": {
           "colorbar": {
            "outlinewidth": 0,
            "ticks": ""
           }
          },
          "colorscale": {
           "sequential": [
            [
             0.0,
             "#0d0887"
            ],
            [
             0.1111111111111111,
             "#46039f"
            ],
            [
             0.2222222222222222,
             "#7201a8"
            ],
            [
             0.3333333333333333,
             "#9c179e"
            ],
            [
             0.4444444444444444,
             "#bd3786"
            ],
            [
             0.5555555555555556,
             "#d8576b"
            ],
            [
             0.6666666666666666,
             "#ed7953"
            ],
            [
             0.7777777777777778,
             "#fb9f3a"
            ],
            [
             0.8888888888888888,
             "#fdca26"
            ],
            [
             1.0,
             "#f0f921"
            ]
           ],
           "sequentialminus": [
            [
             0.0,
             "#0d0887"
            ],
            [
             0.1111111111111111,
             "#46039f"
            ],
            [
             0.2222222222222222,
             "#7201a8"
            ],
            [
             0.3333333333333333,
             "#9c179e"
            ],
            [
             0.4444444444444444,
             "#bd3786"
            ],
            [
             0.5555555555555556,
             "#d8576b"
            ],
            [
             0.6666666666666666,
             "#ed7953"
            ],
            [
             0.7777777777777778,
             "#fb9f3a"
            ],
            [
             0.8888888888888888,
             "#fdca26"
            ],
            [
             1.0,
             "#f0f921"
            ]
           ],
           "diverging": [
            [
             0,
             "#8e0152"
            ],
            [
             0.1,
             "#c51b7d"
            ],
            [
             0.2,
             "#de77ae"
            ],
            [
             0.3,
             "#f1b6da"
            ],
            [
             0.4,
             "#fde0ef"
            ],
            [
             0.5,
             "#f7f7f7"
            ],
            [
             0.6,
             "#e6f5d0"
            ],
            [
             0.7,
             "#b8e186"
            ],
            [
             0.8,
             "#7fbc41"
            ],
            [
             0.9,
             "#4d9221"
            ],
            [
             1,
             "#276419"
            ]
           ]
          },
          "xaxis": {
           "gridcolor": "white",
           "linecolor": "white",
           "ticks": "",
           "title": {
            "standoff": 15
           },
           "zerolinecolor": "white",
           "automargin": true,
           "zerolinewidth": 2
          },
          "yaxis": {
           "gridcolor": "white",
           "linecolor": "white",
           "ticks": "",
           "title": {
            "standoff": 15
           },
           "zerolinecolor": "white",
           "automargin": true,
           "zerolinewidth": 2
          },
          "scene": {
           "xaxis": {
            "backgroundcolor": "#E5ECF6",
            "gridcolor": "white",
            "linecolor": "white",
            "showbackground": true,
            "ticks": "",
            "zerolinecolor": "white",
            "gridwidth": 2
           },
           "yaxis": {
            "backgroundcolor": "#E5ECF6",
            "gridcolor": "white",
            "linecolor": "white",
            "showbackground": true,
            "ticks": "",
            "zerolinecolor": "white",
            "gridwidth": 2
           },
           "zaxis": {
            "backgroundcolor": "#E5ECF6",
            "gridcolor": "white",
            "linecolor": "white",
            "showbackground": true,
            "ticks": "",
            "zerolinecolor": "white",
            "gridwidth": 2
           }
          },
          "shapedefaults": {
           "line": {
            "color": "#2a3f5f"
           }
          },
          "annotationdefaults": {
           "arrowcolor": "#2a3f5f",
           "arrowhead": 0,
           "arrowwidth": 1
          },
          "geo": {
           "bgcolor": "white",
           "landcolor": "#E5ECF6",
           "subunitcolor": "white",
           "showland": true,
           "showlakes": true,
           "lakecolor": "white"
          },
          "title": {
           "x": 0.05
          },
          "mapbox": {
           "style": "light"
          }
         }
        }
       },
       "config": {
        "plotlyServerURL": "https://plot.ly"
       }
      },
      "text/html": "<div>                            <div id=\"f7b4ad8b-52e7-48ba-ad63-69b82aea2277\" class=\"plotly-graph-div\" style=\"height:525px; width:100%;\"></div>            <script type=\"text/javascript\">                require([\"plotly\"], function(Plotly) {                    window.PLOTLYENV=window.PLOTLYENV || {};                                    if (document.getElementById(\"f7b4ad8b-52e7-48ba-ad63-69b82aea2277\")) {                    Plotly.newPlot(                        \"f7b4ad8b-52e7-48ba-ad63-69b82aea2277\",                        [{\"link\":{\"source\":[45,45,45,45,45,45,45,45,45,45,45,45,45,45,45,45,45,45,45,45,45,45,45,45,45,45,45,45,45,45,45,45,45,45,45,45,45,45,45,45,45,45,45,45,45,45,0,1,2,3,4,5,6,7,8,9,10,11,12,13,14,15,16,17,18,19,20,21,22,23,24,25,26,27,28,29,30,31,32,33,34,35,36,37,38,39,40,41,42,43,44,45],\"target\":[0,1,2,3,4,5,6,7,8,9,10,11,12,13,14,15,16,17,18,19,20,21,22,23,24,25,26,27,28,29,30,31,32,33,34,35,36,37,38,39,40,41,42,43,44,46,46,46,46,46,46,46,46,46,46,46,46,46,46,46,46,46,46,46,46,46,46,46,46,46,46,46,46,46,46,46,46,46,46,46,46,46,46,46,46,46,46,46,46,46,46,46],\"value\":[4,6,4,2,3,5,3,3,3,1,3,6,2,2,2,5,3,1,1,4,4,2,2,2,2,3,3,3,1,1,1,1,1,1,1,1,1,1,1,1,1,2,2,2,2,0,9,7,5,6,5,3,4,4,4,5,3,1,3,3,3,1,2,3,3,1,1,2,2,2,2,1,1,1,2,2,2,2,2,2,2,2,2,2,2,2,2,1,1,1,1,0]},\"node\":{\"label\":[\"\\u5929\",\"\\u8056\",\"\\u4e4b\",\"\\u7687\",\"\\u5b50\",\"\\u660e\",\"\\u5fb7\",\"\\u4e0a\",\"\\u4e7e\",\"\\u795e\",\"\\u96f2\",\"\\u5149\",\"\\u660e\\u660e\",\"\\u98a8\",\"\\u671d\",\"\\u6708\",\"\\u7384\",\"\\u5bb9\",\"\\u7687\\u7687\",\"\\u4e2d\",\"\\u4eba\",\"\\u7fa3\",\"\\u81e8\",\"\\u529f\",\"\\u5316\",\"\\u4f55\",\"\\u5dcd\\u5dcd\",\"\\u738b\",\"\\u4e0b\",\"\\u9748\",\"\\u5100\",\"\\u6e05\",\"\\u76db\",\"\\u96cd\\u96cd\",\"\\u777f\",\"\\u5fc3\",\"\\u9f4a\",\"\\u5b97\",\"\\u60df\",\"\\u5f7c\",\"\\u540e\",\"\\u751f\",\"\\u6d2a\",\"\\u570b\",\"\\u7232\",\"\\u8d6b\\u8d6b\",\"\\u7a46\\u7a46\"],\"line\":{\"color\":\"black\",\"width\":0.5},\"pad\":15,\"thickness\":20},\"type\":\"sankey\"}],                        {\"font\":{\"size\":10},\"title\":{\"text\":\"Sankey Diagram Example\"},\"template\":{\"data\":{\"histogram2dcontour\":[{\"type\":\"histogram2dcontour\",\"colorbar\":{\"outlinewidth\":0,\"ticks\":\"\"},\"colorscale\":[[0.0,\"#0d0887\"],[0.1111111111111111,\"#46039f\"],[0.2222222222222222,\"#7201a8\"],[0.3333333333333333,\"#9c179e\"],[0.4444444444444444,\"#bd3786\"],[0.5555555555555556,\"#d8576b\"],[0.6666666666666666,\"#ed7953\"],[0.7777777777777778,\"#fb9f3a\"],[0.8888888888888888,\"#fdca26\"],[1.0,\"#f0f921\"]]}],\"choropleth\":[{\"type\":\"choropleth\",\"colorbar\":{\"outlinewidth\":0,\"ticks\":\"\"}}],\"histogram2d\":[{\"type\":\"histogram2d\",\"colorbar\":{\"outlinewidth\":0,\"ticks\":\"\"},\"colorscale\":[[0.0,\"#0d0887\"],[0.1111111111111111,\"#46039f\"],[0.2222222222222222,\"#7201a8\"],[0.3333333333333333,\"#9c179e\"],[0.4444444444444444,\"#bd3786\"],[0.5555555555555556,\"#d8576b\"],[0.6666666666666666,\"#ed7953\"],[0.7777777777777778,\"#fb9f3a\"],[0.8888888888888888,\"#fdca26\"],[1.0,\"#f0f921\"]]}],\"heatmap\":[{\"type\":\"heatmap\",\"colorbar\":{\"outlinewidth\":0,\"ticks\":\"\"},\"colorscale\":[[0.0,\"#0d0887\"],[0.1111111111111111,\"#46039f\"],[0.2222222222222222,\"#7201a8\"],[0.3333333333333333,\"#9c179e\"],[0.4444444444444444,\"#bd3786\"],[0.5555555555555556,\"#d8576b\"],[0.6666666666666666,\"#ed7953\"],[0.7777777777777778,\"#fb9f3a\"],[0.8888888888888888,\"#fdca26\"],[1.0,\"#f0f921\"]]}],\"heatmapgl\":[{\"type\":\"heatmapgl\",\"colorbar\":{\"outlinewidth\":0,\"ticks\":\"\"},\"colorscale\":[[0.0,\"#0d0887\"],[0.1111111111111111,\"#46039f\"],[0.2222222222222222,\"#7201a8\"],[0.3333333333333333,\"#9c179e\"],[0.4444444444444444,\"#bd3786\"],[0.5555555555555556,\"#d8576b\"],[0.6666666666666666,\"#ed7953\"],[0.7777777777777778,\"#fb9f3a\"],[0.8888888888888888,\"#fdca26\"],[1.0,\"#f0f921\"]]}],\"contourcarpet\":[{\"type\":\"contourcarpet\",\"colorbar\":{\"outlinewidth\":0,\"ticks\":\"\"}}],\"contour\":[{\"type\":\"contour\",\"colorbar\":{\"outlinewidth\":0,\"ticks\":\"\"},\"colorscale\":[[0.0,\"#0d0887\"],[0.1111111111111111,\"#46039f\"],[0.2222222222222222,\"#7201a8\"],[0.3333333333333333,\"#9c179e\"],[0.4444444444444444,\"#bd3786\"],[0.5555555555555556,\"#d8576b\"],[0.6666666666666666,\"#ed7953\"],[0.7777777777777778,\"#fb9f3a\"],[0.8888888888888888,\"#fdca26\"],[1.0,\"#f0f921\"]]}],\"surface\":[{\"type\":\"surface\",\"colorbar\":{\"outlinewidth\":0,\"ticks\":\"\"},\"colorscale\":[[0.0,\"#0d0887\"],[0.1111111111111111,\"#46039f\"],[0.2222222222222222,\"#7201a8\"],[0.3333333333333333,\"#9c179e\"],[0.4444444444444444,\"#bd3786\"],[0.5555555555555556,\"#d8576b\"],[0.6666666666666666,\"#ed7953\"],[0.7777777777777778,\"#fb9f3a\"],[0.8888888888888888,\"#fdca26\"],[1.0,\"#f0f921\"]]}],\"mesh3d\":[{\"type\":\"mesh3d\",\"colorbar\":{\"outlinewidth\":0,\"ticks\":\"\"}}],\"scatter\":[{\"fillpattern\":{\"fillmode\":\"overlay\",\"size\":10,\"solidity\":0.2},\"type\":\"scatter\"}],\"parcoords\":[{\"type\":\"parcoords\",\"line\":{\"colorbar\":{\"outlinewidth\":0,\"ticks\":\"\"}}}],\"scatterpolargl\":[{\"type\":\"scatterpolargl\",\"marker\":{\"colorbar\":{\"outlinewidth\":0,\"ticks\":\"\"}}}],\"bar\":[{\"error_x\":{\"color\":\"#2a3f5f\"},\"error_y\":{\"color\":\"#2a3f5f\"},\"marker\":{\"line\":{\"color\":\"#E5ECF6\",\"width\":0.5},\"pattern\":{\"fillmode\":\"overlay\",\"size\":10,\"solidity\":0.2}},\"type\":\"bar\"}],\"scattergeo\":[{\"type\":\"scattergeo\",\"marker\":{\"colorbar\":{\"outlinewidth\":0,\"ticks\":\"\"}}}],\"scatterpolar\":[{\"type\":\"scatterpolar\",\"marker\":{\"colorbar\":{\"outlinewidth\":0,\"ticks\":\"\"}}}],\"histogram\":[{\"marker\":{\"pattern\":{\"fillmode\":\"overlay\",\"size\":10,\"solidity\":0.2}},\"type\":\"histogram\"}],\"scattergl\":[{\"type\":\"scattergl\",\"marker\":{\"colorbar\":{\"outlinewidth\":0,\"ticks\":\"\"}}}],\"scatter3d\":[{\"type\":\"scatter3d\",\"line\":{\"colorbar\":{\"outlinewidth\":0,\"ticks\":\"\"}},\"marker\":{\"colorbar\":{\"outlinewidth\":0,\"ticks\":\"\"}}}],\"scattermapbox\":[{\"type\":\"scattermapbox\",\"marker\":{\"colorbar\":{\"outlinewidth\":0,\"ticks\":\"\"}}}],\"scatterternary\":[{\"type\":\"scatterternary\",\"marker\":{\"colorbar\":{\"outlinewidth\":0,\"ticks\":\"\"}}}],\"scattercarpet\":[{\"type\":\"scattercarpet\",\"marker\":{\"colorbar\":{\"outlinewidth\":0,\"ticks\":\"\"}}}],\"carpet\":[{\"aaxis\":{\"endlinecolor\":\"#2a3f5f\",\"gridcolor\":\"white\",\"linecolor\":\"white\",\"minorgridcolor\":\"white\",\"startlinecolor\":\"#2a3f5f\"},\"baxis\":{\"endlinecolor\":\"#2a3f5f\",\"gridcolor\":\"white\",\"linecolor\":\"white\",\"minorgridcolor\":\"white\",\"startlinecolor\":\"#2a3f5f\"},\"type\":\"carpet\"}],\"table\":[{\"cells\":{\"fill\":{\"color\":\"#EBF0F8\"},\"line\":{\"color\":\"white\"}},\"header\":{\"fill\":{\"color\":\"#C8D4E3\"},\"line\":{\"color\":\"white\"}},\"type\":\"table\"}],\"barpolar\":[{\"marker\":{\"line\":{\"color\":\"#E5ECF6\",\"width\":0.5},\"pattern\":{\"fillmode\":\"overlay\",\"size\":10,\"solidity\":0.2}},\"type\":\"barpolar\"}],\"pie\":[{\"automargin\":true,\"type\":\"pie\"}]},\"layout\":{\"autotypenumbers\":\"strict\",\"colorway\":[\"#636efa\",\"#EF553B\",\"#00cc96\",\"#ab63fa\",\"#FFA15A\",\"#19d3f3\",\"#FF6692\",\"#B6E880\",\"#FF97FF\",\"#FECB52\"],\"font\":{\"color\":\"#2a3f5f\"},\"hovermode\":\"closest\",\"hoverlabel\":{\"align\":\"left\"},\"paper_bgcolor\":\"white\",\"plot_bgcolor\":\"#E5ECF6\",\"polar\":{\"bgcolor\":\"#E5ECF6\",\"angularaxis\":{\"gridcolor\":\"white\",\"linecolor\":\"white\",\"ticks\":\"\"},\"radialaxis\":{\"gridcolor\":\"white\",\"linecolor\":\"white\",\"ticks\":\"\"}},\"ternary\":{\"bgcolor\":\"#E5ECF6\",\"aaxis\":{\"gridcolor\":\"white\",\"linecolor\":\"white\",\"ticks\":\"\"},\"baxis\":{\"gridcolor\":\"white\",\"linecolor\":\"white\",\"ticks\":\"\"},\"caxis\":{\"gridcolor\":\"white\",\"linecolor\":\"white\",\"ticks\":\"\"}},\"coloraxis\":{\"colorbar\":{\"outlinewidth\":0,\"ticks\":\"\"}},\"colorscale\":{\"sequential\":[[0.0,\"#0d0887\"],[0.1111111111111111,\"#46039f\"],[0.2222222222222222,\"#7201a8\"],[0.3333333333333333,\"#9c179e\"],[0.4444444444444444,\"#bd3786\"],[0.5555555555555556,\"#d8576b\"],[0.6666666666666666,\"#ed7953\"],[0.7777777777777778,\"#fb9f3a\"],[0.8888888888888888,\"#fdca26\"],[1.0,\"#f0f921\"]],\"sequentialminus\":[[0.0,\"#0d0887\"],[0.1111111111111111,\"#46039f\"],[0.2222222222222222,\"#7201a8\"],[0.3333333333333333,\"#9c179e\"],[0.4444444444444444,\"#bd3786\"],[0.5555555555555556,\"#d8576b\"],[0.6666666666666666,\"#ed7953\"],[0.7777777777777778,\"#fb9f3a\"],[0.8888888888888888,\"#fdca26\"],[1.0,\"#f0f921\"]],\"diverging\":[[0,\"#8e0152\"],[0.1,\"#c51b7d\"],[0.2,\"#de77ae\"],[0.3,\"#f1b6da\"],[0.4,\"#fde0ef\"],[0.5,\"#f7f7f7\"],[0.6,\"#e6f5d0\"],[0.7,\"#b8e186\"],[0.8,\"#7fbc41\"],[0.9,\"#4d9221\"],[1,\"#276419\"]]},\"xaxis\":{\"gridcolor\":\"white\",\"linecolor\":\"white\",\"ticks\":\"\",\"title\":{\"standoff\":15},\"zerolinecolor\":\"white\",\"automargin\":true,\"zerolinewidth\":2},\"yaxis\":{\"gridcolor\":\"white\",\"linecolor\":\"white\",\"ticks\":\"\",\"title\":{\"standoff\":15},\"zerolinecolor\":\"white\",\"automargin\":true,\"zerolinewidth\":2},\"scene\":{\"xaxis\":{\"backgroundcolor\":\"#E5ECF6\",\"gridcolor\":\"white\",\"linecolor\":\"white\",\"showbackground\":true,\"ticks\":\"\",\"zerolinecolor\":\"white\",\"gridwidth\":2},\"yaxis\":{\"backgroundcolor\":\"#E5ECF6\",\"gridcolor\":\"white\",\"linecolor\":\"white\",\"showbackground\":true,\"ticks\":\"\",\"zerolinecolor\":\"white\",\"gridwidth\":2},\"zaxis\":{\"backgroundcolor\":\"#E5ECF6\",\"gridcolor\":\"white\",\"linecolor\":\"white\",\"showbackground\":true,\"ticks\":\"\",\"zerolinecolor\":\"white\",\"gridwidth\":2}},\"shapedefaults\":{\"line\":{\"color\":\"#2a3f5f\"}},\"annotationdefaults\":{\"arrowcolor\":\"#2a3f5f\",\"arrowhead\":0,\"arrowwidth\":1},\"geo\":{\"bgcolor\":\"white\",\"landcolor\":\"#E5ECF6\",\"subunitcolor\":\"white\",\"showland\":true,\"showlakes\":true,\"lakecolor\":\"white\"},\"title\":{\"x\":0.05},\"mapbox\":{\"style\":\"light\"}}}},                        {\"responsive\": true}                    ).then(function(){\n                            \nvar gd = document.getElementById('f7b4ad8b-52e7-48ba-ad63-69b82aea2277');\nvar x = new MutationObserver(function (mutations, observer) {{\n        var display = window.getComputedStyle(gd).display;\n        if (!display || display === 'none') {{\n            console.log([gd, 'removed!']);\n            Plotly.purge(gd);\n            observer.disconnect();\n        }}\n}});\n\n// Listen for the removal of the full notebook cells\nvar notebookContainer = gd.closest('#notebook-container');\nif (notebookContainer) {{\n    x.observe(notebookContainer, {childList: true});\n}}\n\n// Listen for the clearing of the current output cell\nvar outputEl = gd.closest('.output');\nif (outputEl) {{\n    x.observe(outputEl, {childList: true});\n}}\n\n                        })                };                });            </script>        </div>"
     },
     "metadata": {},
     "output_type": "display_data"
    }
   ],
   "source": [
    "import plotly.graph_objs as go\n",
    "\n",
    "# 数据\n",
    "source = []  # 源节点\n",
    "target = []  # 目标节点\n",
    "value = []    # 流量值\n",
    "for link in links:\n",
    "    source.append(sorted_labels.index(link[\"source\"]))\n",
    "    target.append(sorted_labels.index(link[\"target\"]))\n",
    "    value.append(link[\"value\"])\n",
    "\n",
    "    \n",
    "# 创建桑基图\n",
    "sankey_data = go.Sankey(\n",
    "    node=dict(\n",
    "        pad=15,\n",
    "        thickness=20,\n",
    "        line=dict(color=\"black\", width=0.5),\n",
    "        label=sorted_labels,\n",
    "    ),\n",
    "    link=dict(\n",
    "        source=source,\n",
    "        target=target,\n",
    "        value=value,\n",
    "    )\n",
    ")\n",
    "\n",
    "# 布局设置\n",
    "layout = dict(\n",
    "    title=\"Sankey Diagram Example\",\n",
    "    font=dict(size=10)\n",
    ")\n",
    "\n",
    "# 创建Figure并显示图形\n",
    "fig = go.Figure(data=[sankey_data], layout=layout)\n",
    "fig.show()\n"
   ],
   "metadata": {
    "collapsed": false,
    "ExecuteTime": {
     "end_time": "2023-10-07T13:16:33.135640300Z",
     "start_time": "2023-10-07T13:16:33.128556700Z"
    }
   }
  },
  {
   "cell_type": "code",
   "execution_count": null,
   "outputs": [],
   "source": [],
   "metadata": {
    "collapsed": false
   }
  }
 ],
 "metadata": {
  "kernelspec": {
   "display_name": "Python 3",
   "language": "python",
   "name": "python3"
  },
  "language_info": {
   "codemirror_mode": {
    "name": "ipython",
    "version": 3
   },
   "file_extension": ".py",
   "mimetype": "text/x-python",
   "name": "python",
   "nbconvert_exporter": "python",
   "pygments_lexer": "ipython3",
   "version": "3.11.0"
  },
  "orig_nbformat": 4
 },
 "nbformat": 4,
 "nbformat_minor": 2
}
