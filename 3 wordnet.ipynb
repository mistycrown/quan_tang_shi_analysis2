{
 "cells": [
  {
   "cell_type": "code",
   "execution_count": 24,
   "metadata": {},
   "outputs": [
    {
     "name": "stdout",
     "output_type": "stream",
     "text": [
      "KeyedVectors<vector_size=100, 5504 keys>\n"
     ]
    }
   ],
   "source": [
    "from gensim.models import KeyedVectors\n",
    "\n",
    "# 读取词向量文件\n",
    "path = 'output\\quantangshi_emb.txt'\n",
    "emb = KeyedVectors.load_word2vec_format(path, binary=False, unicode_errors='ignore')\n",
    "print(emb)"
   ]
  },
  {
   "cell_type": "code",
   "execution_count": 25,
   "metadata": {},
   "outputs": [
    {
     "name": "stdout",
     "output_type": "stream",
     "text": [
      "['悠悠', '蒼蒼', '蕭蕭', '紛紛', '茫茫', '寂寂', '依依', '青青', '沈沈', '迢迢', '漠漠', '翩翩', '冥冥', '遲遲', '重重', '漫漫', '萋萋', '濛濛', '霏霏', '泠泠', '杳杳', '淒淒', '浩浩', '亭亭', '寥寥', '飄飄', '微微', '耿耿', '渺渺', '擾擾', '肅肅', '冉冉', '潺潺', '颯颯', '高高', '鬱鬱', '嫋嫋', '離離', '皎皎', '歷歷', '喧喧', '森森', '褭褭', '騰騰', '悄悄', '纖纖', '遙遙', '草草', '峨峨', '團團', '陰陰', '隱隱', '煌煌', '明明', '營營', '昏昏', '綿綿', '啾啾', '赫赫', '盈盈', '瑟瑟', '兀兀', '藹藹', '落落', '滔滔', '溶溶', '的的', '灼灼', '切切', '區區', '纍纍', '靄靄', '堂堂', '默默', '忽忽', '娟娟', '層層', '珊珊', '巍巍', '哀哀', '戚戚', '熒熒', '脈脈', '丁丁', '昭昭', '芊芊', '颼颼', '悽悽', '駸駸', '穆穆', '涓涓', '熙熙', '淅淅', '濟濟', '小小', '輕輕', '靡靡', '磷磷', '斑斑', '泛泛', '慘慘', '鏘鏘', '黯黯', '澹澹', '淼淼', '眇眇', '軋軋', '曈曈', '脉脉', '漾漾', '關關', '皇皇', '蕩蕩', '欣欣', '惻惻', '搖搖', '獵獵', '了了', '洋洋', '凜凜', '唧唧', '融融', '連連', '苒苒', '深深', '沉沉', '灩灩', '簇簇', '愔愔', '穰穰', '湛湛', '炎炎', '嗚嗚', '幽幽', '徐徐', '奕奕', '促促', '翻翻', '細細', '鼕鼕', '輝輝', '習習', '稜稜', '宛宛', '空空', '孜孜', '澄澄', '陶陶', '遠遠', '拂拂', '碌碌', '頻頻', '叢叢', '田田', '醺醺', '籍籍', '怱怱', '烈烈', '索索', '冪冪', '皚皚', '汲汲', '役役', '瀟瀟', '巉巉', '豔豔', '憧憧', '啞啞', '茸茸', '緜緜', '濺濺', '淡淡', '英英', '朗朗', '翛翛', '閑閑', '永永', '嘈嘈', '毿毿', '蠢蠢', '怡怡', '忡忡', '粲粲', '矻矻', '油油', '渾渾', '鱗鱗', '兢兢', '眷眷', '閃閃', '修修', '勞勞', '遑遑', '薄薄', '衮衮', '疊疊', '亹亹', '殷殷', '燄燄', '矯矯', '騷騷', '栖栖', '翳翳', '雄雄', '厭厭', '洶洶', '郁郁', '密密', '咽咽', '旋旋', '揚揚', '磊磊', '曖曖', '彎彎', '玄玄', '喃喃', '聯聯', '溫溫', '長長', '蒙蒙', '雍雍', '盤盤', '轔轔', '疎疎', '羃羃', '呦呦', '莽莽', '闐闐', '峩峩', '錚錚', '皤皤', '淺淺', '勤勤', '汪汪', '嚶嚶', '窅窅', '杲杲', '濯濯', '惺惺', '短短', '翼翼', '決決', '急急', '馥馥', '焰焰', '汎汎', '摵摵', '悤悤', '婉婉', '坎坎', '戢戢', '拳拳']\n"
     ]
    }
   ],
   "source": [
    "from gensim.models import KeyedVectors\n",
    "import numpy as np\n",
    "from sklearn.metrics.pairwise import cosine_similarity\n",
    "\n",
    "two_letter_words = [word for word in emb.index_to_key if len(word) == 2]\n",
    "print(two_letter_words)\n",
    "\n",
    "similarity_matrix = np.zeros((len(two_letter_words), len(two_letter_words)))\n",
    "\n",
    "for i, word1 in enumerate(two_letter_words):\n",
    "    for j, word2 in enumerate(two_letter_words):\n",
    "        if i <= j:  # 因为余弦相似度矩阵是对称的，所以只需计算上三角部分\n",
    "            similarity = cosine_similarity([emb[word1]], [emb[word2]])[0][0]\n",
    "            similarity_matrix[i, j] = similarity\n",
    "            similarity_matrix[j, i] = similarity  # 对称位置也设置为相似度值\n"
   ]
  },
  {
   "cell_type": "code",
   "execution_count": 26,
   "metadata": {},
   "outputs": [
    {
     "name": "stdout",
     "output_type": "stream",
     "text": [
      "[[ 0.99999994  0.36581203  0.42903933 ...  0.11059996 -0.01559079\n",
      "   0.22724324]\n",
      " [ 0.36581203  0.99999994  0.47561562 ...  0.2830258   0.13205713\n",
      "   0.07685231]\n",
      " [ 0.42903933  0.47561562  0.99999994 ...  0.34142089  0.00288165\n",
      "   0.00154526]\n",
      " ...\n",
      " [ 0.11059996  0.2830258   0.34142089 ...  1.00000012  0.32327077\n",
      "  -0.07128906]\n",
      " [-0.01559079  0.13205713  0.00288165 ...  0.32327077  1.\n",
      "   0.17016521]\n",
      " [ 0.22724324  0.07685231  0.00154526 ... -0.07128906  0.17016521\n",
      "   0.99999994]]\n"
     ]
    }
   ],
   "source": [
    "print(similarity_matrix)"
   ]
  },
  {
   "cell_type": "code",
   "execution_count": 27,
   "metadata": {},
   "outputs": [
    {
     "name": "stdout",
     "output_type": "stream",
     "text": [
      "最小值: -0.24123026430606842\n",
      "最大值: 1.000000238418579\n",
      "平均值: 0.18897925070176588\n",
      "标准差: 0.13666475186363927\n"
     ]
    }
   ],
   "source": [
    "import numpy as np\n",
    "\n",
    "# 假设 similarity_matrix 是你的余弦相似度矩阵\n",
    "# 如果矩阵太大，你可以只计算一个子集的统计量\n",
    "\n",
    "min_value = np.min(similarity_matrix)\n",
    "max_value = np.max(similarity_matrix)\n",
    "mean_value = np.mean(similarity_matrix)\n",
    "std_value = np.std(similarity_matrix)\n",
    "\n",
    "print(\"最小值:\", min_value)\n",
    "print(\"最大值:\", max_value)\n",
    "print(\"平均值:\", mean_value)\n",
    "print(\"标准差:\", std_value)\n"
   ]
  },
  {
   "cell_type": "code",
   "execution_count": 28,
   "metadata": {},
   "outputs": [],
   "source": [
    "import matplotlib.pyplot as plt\n",
    "import matplotlib as mpl\n",
    "\n",
    "# 設置本地字體文件路徑\n",
    "font_path = r'C:\\Windows\\Fonts\\simkai.ttf'\n",
    "\n",
    "# 使用FontProperties類來設置字體\n",
    "custom_font = mpl.font_manager.FontProperties(fname=font_path)\n",
    "\n",
    "# 設置Matplotlib的rcParams\n",
    "plt.rcParams['font.sans-serif'] = custom_font.get_name()\n",
    "mpl.rcParams['font.sans-serif'] = custom_font.get_name()\n"
   ]
  },
  {
   "cell_type": "code",
   "execution_count": 29,
   "metadata": {},
   "outputs": [
    {
     "name": "stderr",
     "output_type": "stream",
     "text": [
      "C:\\Users\\xiangpu\\AppData\\Roaming\\Python\\Python311\\site-packages\\IPython\\core\\pylabtools.py:152: UserWarning: Glyph 8722 (\\N{MINUS SIGN}) missing from current font.\n",
      "  fig.canvas.print_figure(bytes_io, **kw)\n"
     ]
    },
    {
     "data": {
      "image/png": "[encoded data removed]",
      "text/plain": [
       "<Figure size 640x480 with 1 Axes>"
      ]
     },
     "metadata": {},
     "output_type": "display_data"
    }
   ],
   "source": [
    "import numpy as np\n",
    "import matplotlib.pyplot as plt\n",
    "\n",
    "# 假设你有一个存储矩阵数值的numpy数组\n",
    "matrix_values = []\n",
    "for i in similarity_matrix:\n",
    "    for j in i:\n",
    "        matrix_values.append(j)\n",
    "# 绘制直方图\n",
    "plt.hist(matrix_values, bins=20, color='blue', alpha=0.7)  # alpha参数控制透明度\n",
    "plt.xlabel('数值')\n",
    "plt.ylabel('频数')\n",
    "plt.title('矩阵数值分布直方图')\n",
    "plt.show()\n"
   ]
  },
  {
   "cell_type": "code",
   "execution_count": 32,
   "metadata": {},
   "outputs": [
    {
     "name": "stdout",
     "output_type": "stream",
     "text": [
      "CSV 文件导出成功: output/gephi_data0.5.csv\n"
     ]
    }
   ],
   "source": [
    "import numpy as np\n",
    "import pandas as pd\n",
    "\n",
    "threshold = 0.5  # 相似度阈值，大于该值的才添加为边\n",
    "\n",
    "# 获取满足条件的边及相似度\n",
    "edges = []\n",
    "for i in range(len(similarity_matrix)):\n",
    "    for j in range(i + 1, len(similarity_matrix)):\n",
    "        similarity = similarity_matrix[i][j]\n",
    "        if similarity > threshold:\n",
    "            edges.append((two_letter_words[i], two_letter_words[j], similarity))\n",
    "\n",
    "# 创建 DataFrame 存储边和相似度\n",
    "df = pd.DataFrame(edges, columns=[\"Source\", \"Target\", \"Similarity\"])\n",
    "\n",
    "# 将 DataFrame 导出为 CSV 文件\n",
    "csv_filename = \"output/gephi_data0.5.csv\"\n",
    "df.to_csv(csv_filename, index=False)\n",
    "\n",
    "print(\"CSV 文件导出成功:\", csv_filename)\n"
   ]
  },
  {
   "cell_type": "code",
   "execution_count": 5,
   "metadata": {},
   "outputs": [
    {
     "name": "stdout",
     "output_type": "stream",
     "text": [
      "[[0.         0.87850261 0.53385812 ... 0.27132159 0.35483015 0.31306884]\n",
      " [0.87850261 0.         0.48245493 ... 0.21311283 0.2970328  0.2724368 ]\n",
      " [0.53385812 0.48245493 0.         ... 0.30841663 0.03915691 0.20762514]\n",
      " ...\n",
      " [0.27132159 0.21311283 0.30841663 ... 0.         0.30434901 0.27039421]\n",
      " [0.35483015 0.2970328  0.03915691 ... 0.30434901 0.         0.16695002]\n",
      " [0.31306884 0.2724368  0.20762514 ... 0.27039421 0.16695002 0.        ]]\n"
     ]
    }
   ],
   "source": [
    "# import numpy as np\n",
    "# from gensim.models import KeyedVectors\n",
    "## 生成鄰接矩陣\n",
    "# # Load word vectors\n",
    "# path ='output\\quantangshi_emb.txt'\n",
    "# emb = KeyedVectors.load_word2vec_format(path, binary=False, unicode_errors='ignore')\n",
    "\n",
    "# # Get the list of words\n",
    "# words = emb.index_to_key\n",
    "\n",
    "# # Calculate similarity (using cosine similarity as an example)\n",
    "# def cosine_similarity(word1, word2):\n",
    "#     vec1 = emb.get_vector(word1)\n",
    "#     vec2 = emb.get_vector(word2)\n",
    "#     dot_product = np.dot(vec1, vec2)\n",
    "#     norm1 = np.linalg.norm(vec1)\n",
    "#     norm2 = np.linalg.norm(vec2)\n",
    "#     similarity = dot_product / (norm1 * norm2)\n",
    "#     return similarity\n",
    "\n",
    "# # Build the adjacency matrix\n",
    "# num_words = len(words)\n",
    "# adj_matrix = np.zeros((num_words, num_words))\n",
    "# for i in range(num_words):\n",
    "#     for j in range(i+1, num_words):\n",
    "#         word1 = words[i]\n",
    "#         word2 = words[j]\n",
    "#         similarity = cosine_similarity(word1, word2)\n",
    "#         adj_matrix[i][j] = similarity\n",
    "#         adj_matrix[j][i] = similarity\n",
    "\n",
    "# print(adj_matrix)\n"
   ]
  },
  {
   "cell_type": "code",
   "execution_count": null,
   "metadata": {},
   "outputs": [],
   "source": [
    "\n",
    "# # 将adj_matrix保存为本地文件\n",
    "# np.save('output/adj_matrix.npy', adj_matrix)"
   ]
  },
  {
   "cell_type": "code",
   "execution_count": 1,
   "metadata": {},
   "outputs": [],
   "source": [
    "# import numpy as np\n",
    "\n",
    "# # 从本地文件加载adj_matrix\n",
    "# loaded_adj_matrix = np.load('output/adj_matrix.npy')"
   ]
  },
  {
   "cell_type": "code",
   "execution_count": 4,
   "metadata": {},
   "outputs": [
    {
     "data": {
      "text/plain": [
       "'d:\\\\github repo\\\\quan_tang_shi_analysis2\\\\word_similarity_network.html'"
      ]
     },
     "execution_count": 4,
     "metadata": {},
     "output_type": "execute_result"
    }
   ],
   "source": []
  },
  {
   "cell_type": "code",
   "execution_count": null,
   "metadata": {},
   "outputs": [],
   "source": []
  }
 ],
 "metadata": {
  "kernelspec": {
   "display_name": ".venv",
   "language": "python",
   "name": "python3"
  },
  "language_info": {
   "codemirror_mode": {
    "name": "ipython",
    "version": 3
   },
   "file_extension": ".py",
   "mimetype": "text/x-python",
   "name": "python",
   "nbconvert_exporter": "python",
   "pygments_lexer": "ipython3",
   "version": "3.11.0"
  },
  "orig_nbformat": 4
 },
 "nbformat": 4,
 "nbformat_minor": 2
}
