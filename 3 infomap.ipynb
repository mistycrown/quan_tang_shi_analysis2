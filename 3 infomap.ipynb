{
 "cells": [
  {
   "cell_type": "code",
   "execution_count": null,
   "metadata": {},
   "outputs": [],
   "source": [
    "from gensim.models import KeyedVectors\n",
    "\n",
    "# 读取词向量文件\n",
    "path = 'output\\quantangshi_emb.txt'\n",
    "emb = KeyedVectors.load_word2vec_format(path, binary=False, unicode_errors='ignore')\n",
    "print(emb)"
   ]
  },
  {
   "cell_type": "code",
   "execution_count": 5,
   "metadata": {},
   "outputs": [
    {
     "name": "stdout",
     "output_type": "stream",
     "text": [
      "[[0.         0.87850261 0.53385812 ... 0.27132159 0.35483015 0.31306884]\n",
      " [0.87850261 0.         0.48245493 ... 0.21311283 0.2970328  0.2724368 ]\n",
      " [0.53385812 0.48245493 0.         ... 0.30841663 0.03915691 0.20762514]\n",
      " ...\n",
      " [0.27132159 0.21311283 0.30841663 ... 0.         0.30434901 0.27039421]\n",
      " [0.35483015 0.2970328  0.03915691 ... 0.30434901 0.         0.16695002]\n",
      " [0.31306884 0.2724368  0.20762514 ... 0.27039421 0.16695002 0.        ]]\n"
     ]
    }
   ],
   "source": [
    "# import numpy as np\n",
    "# from gensim.models import KeyedVectors\n",
    "## 生成鄰接矩陣\n",
    "# # Load word vectors\n",
    "# path ='output\\quantangshi_emb.txt'\n",
    "# emb = KeyedVectors.load_word2vec_format(path, binary=False, unicode_errors='ignore')\n",
    "\n",
    "# # Get the list of words\n",
    "# words = emb.index_to_key\n",
    "\n",
    "# # Calculate similarity (using cosine similarity as an example)\n",
    "# def cosine_similarity(word1, word2):\n",
    "#     vec1 = emb.get_vector(word1)\n",
    "#     vec2 = emb.get_vector(word2)\n",
    "#     dot_product = np.dot(vec1, vec2)\n",
    "#     norm1 = np.linalg.norm(vec1)\n",
    "#     norm2 = np.linalg.norm(vec2)\n",
    "#     similarity = dot_product / (norm1 * norm2)\n",
    "#     return similarity\n",
    "\n",
    "# # Build the adjacency matrix\n",
    "# num_words = len(words)\n",
    "# adj_matrix = np.zeros((num_words, num_words))\n",
    "# for i in range(num_words):\n",
    "#     for j in range(i+1, num_words):\n",
    "#         word1 = words[i]\n",
    "#         word2 = words[j]\n",
    "#         similarity = cosine_similarity(word1, word2)\n",
    "#         adj_matrix[i][j] = similarity\n",
    "#         adj_matrix[j][i] = similarity\n",
    "\n",
    "# print(adj_matrix)\n"
   ]
  },
  {
   "cell_type": "code",
   "execution_count": 7,
   "metadata": {},
   "outputs": [],
   "source": [
    "import numpy as np\n",
    "\n",
    "# 将adj_matrix保存为本地文件\n",
    "np.save('output/adj_matrix.npy', adj_matrix)"
   ]
  },
  {
   "cell_type": "code",
   "execution_count": 8,
   "metadata": {},
   "outputs": [],
   "source": [
    "# 从本地文件加载adj_matrix\n",
    "loaded_adj_matrix = np.load('output/adj_matrix.npy')"
   ]
  },
  {
   "cell_type": "code",
   "execution_count": 9,
   "metadata": {},
   "outputs": [
    {
     "ename": "ModuleNotFoundError",
     "evalue": "No module named 'infomap'",
     "output_type": "error",
     "traceback": [
      "\u001b[1;31m---------------------------------------------------------------------------\u001b[0m",
      "\u001b[1;31mModuleNotFoundError\u001b[0m                       Traceback (most recent call last)",
      "Cell \u001b[1;32mIn[9], line 2\u001b[0m\n\u001b[0;32m      1\u001b[0m \u001b[39mimport\u001b[39;00m \u001b[39mnetworkx\u001b[39;00m \u001b[39mas\u001b[39;00m \u001b[39mnx\u001b[39;00m\n\u001b[1;32m----> 2\u001b[0m \u001b[39mfrom\u001b[39;00m \u001b[39minfomap\u001b[39;00m \u001b[39mimport\u001b[39;00m Infomap\n\u001b[0;32m      4\u001b[0m \u001b[39m# 假设你有词向量表示和词汇图的邻接矩阵adj_matrix\u001b[39;00m\n\u001b[0;32m      5\u001b[0m \u001b[39m# 例如，adj_matrix[i][j]表示词汇i和j之间的相似度或权重\u001b[39;00m\n\u001b[0;32m      6\u001b[0m \n\u001b[0;32m      7\u001b[0m \u001b[39m# 构建无向图\u001b[39;00m\n\u001b[0;32m      8\u001b[0m G \u001b[39m=\u001b[39m nx\u001b[39m.\u001b[39mGraph()\n",
      "\u001b[1;31mModuleNotFoundError\u001b[0m: No module named 'infomap'"
     ]
    }
   ],
   "source": [
    "import networkx as nx\n",
    "from infomap import Infomap\n",
    "\n",
    "# 假设你有词向量表示和词汇图的邻接矩阵adj_matrix\n",
    "# 例如，adj_matrix[i][j]表示词汇i和j之间的相似度或权重\n",
    "\n",
    "# 构建无向图\n",
    "G = nx.Graph()\n",
    "for i in range(len(adj_matrix)):\n",
    "    for j in range(i+1, len(adj_matrix)):\n",
    "        weight = adj_matrix[i][j]\n",
    "        if weight > 0:  # 只添加相似度大于0的边\n",
    "            G.add_edge(i, j, weight=weight)\n",
    "\n",
    "# 初始化Infomap算法\n",
    "infomap = Infomap()\n",
    "\n",
    "# 添加边到Infomap算法\n",
    "for edge in G.edges():\n",
    "    infomap.addLink(*edge)\n",
    "\n",
    "# 运行Infomap算法进行聚类\n",
    "infomap.run()\n",
    "\n",
    "# 获取聚类结果\n",
    "cluster_result = {}\n",
    "for node, cluster_id in infomap.iterTree():\n",
    "    if cluster_id not in cluster_result:\n",
    "        cluster_result[cluster_id] = []\n",
    "    cluster_result[cluster_id].append(node)\n",
    "\n",
    "# 输出聚类结果\n",
    "for cluster_id, words in cluster_result.items():\n",
    "    print(f\"Cluster {cluster_id}:\")\n",
    "    for word_idx in words:\n",
    "        print(f\"  Word {word_idx}: {word_list[word_idx]}\")  # 假设有一个word_list，保存着词汇列表\n"
   ]
  }
 ],
 "metadata": {
  "kernelspec": {
   "display_name": ".venv",
   "language": "python",
   "name": "python3"
  },
  "language_info": {
   "codemirror_mode": {
    "name": "ipython",
    "version": 3
   },
   "file_extension": ".py",
   "mimetype": "text/x-python",
   "name": "python",
   "nbconvert_exporter": "python",
   "pygments_lexer": "ipython3",
   "version": "3.11.0"
  },
  "orig_nbformat": 4
 },
 "nbformat": 4,
 "nbformat_minor": 2
}
